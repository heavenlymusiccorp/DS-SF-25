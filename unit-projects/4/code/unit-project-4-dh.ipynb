{
 "cells": [
  {
   "cell_type": "markdown",
   "metadata": {},
   "source": [
    "# DS-SF-25 | Unit Project 4: Notebook with Executive Summary | Answer Key\n",
    "\n",
    "In this project, you will summarize and present your analysis from Unit Projects 1-3."
   ]
  },
  {
   "cell_type": "markdown",
   "metadata": {},
   "source": [
    "> ## Question 1.  Introduction\n",
    "> Write a problem statement for this project."
   ]
  },
  {
   "cell_type": "markdown",
   "metadata": {},
   "source": [
    "Predict admissions to UCLA graduate school based on GPA, GRE, and the prestige rating of the undergraduate university."
   ]
  },
  {
   "cell_type": "markdown",
   "metadata": {},
   "source": [
    "> ## Question 2.  Dataset\n",
    "> Write up a description of your data and any cleaning that was completed."
   ]
  },
  {
   "cell_type": "markdown",
   "metadata": {},
   "source": [
    "Variable | Description | Type of Variable\n",
    "---|---|---\n",
    "admit | 0 = not admitted to UCLA, 1 = admitted to UCLA; binary (stored as integer)| Categorical\n",
    "gre | Graduate Record Examination score; integer (stored as float) | Continuous\n",
    "gpa | Grade Point Average; float | Continuous\n",
    "prestige | Prestige of an applicant's alta mater (1-4, w/ 1 as highest); integer (stored as float) | Categorical"
   ]
  },
  {
   "cell_type": "markdown",
   "metadata": {},
   "source": [
    "Rows with missing points were dropped."
   ]
  },
  {
   "cell_type": "markdown",
   "metadata": {
    "collapsed": true
   },
   "source": [
    "> ## Question 3.  Demo\n",
    "> Provide a table that explains the data by admission status."
   ]
  },
  {
   "cell_type": "markdown",
   "metadata": {},
   "source": [
    "Answer: Mean (std) or count by admission status for each feature:\n",
    "\n",
    "| Not Admitted | Admitted\n",
    "---|---|---\n",
    "GPA | 3.3 mean (0.4 std) | 3.5 mean (0.4 std)\n",
    "GRE | 574 mean (116 std) | 619 mean (109 std)\n",
    "Prestige 1 | 28| 33\n",
    "Prestige 2 | 95 | 53\n",
    "Prestige 3 | 93 | 28\n",
    "Prestige 4 | 55 | 12"
   ]
  },
  {
   "cell_type": "markdown",
   "metadata": {},
   "source": [
    "> ## Question 4. Methods\n",
    "> Write up the methods used in your analysis."
   ]
  },
  {
   "cell_type": "markdown",
   "metadata": {},
   "source": [
    "- Prestige was turned into a set of dummy variables.\n",
    "- Logistic regression was performed to predict admission using GRE, GPA, and Prestige ranks 2-4. I.E. Prestige rank 1 was the reference.\n",
    "- Both Statsmodels and Scikit-Learn modules were used for result comparison.\n",
    "- A sample test case of a student with a GRE of 800 and a GPA of 4 was analyzed as if they came from either a tier-1, tier-2, tier-3, or tier-4 undergraduate school."
   ]
  },
  {
   "cell_type": "markdown",
   "metadata": {},
   "source": [
    "> ## Question 5. Results\n",
    "> Write up your results."
   ]
  },
  {
   "cell_type": "markdown",
   "metadata": {},
   "source": [
    "- The odds of admittance would decrease by half for a prestige_2 school in comparison to a prestige_1 school while the odds of admittance double for a unit increase in GPA (e.g. 3 to 4).\n",
    "- A student with an 800 GRE and 4.0 GPA would have a 73%, 58%, 42%, and 37% chance of admission if they went to a prestige 1, 2, 3, or 4 ranked school respectively."
   ]
  },
  {
   "cell_type": "markdown",
   "metadata": {},
   "source": [
    "> ## Question 6. Visuals\n",
    "> Provide a table or visualization of these results."
   ]
  },
  {
   "cell_type": "markdown",
   "metadata": {},
   "source": [
    "#### Odds ratios of logistic regression models:"
   ]
  },
  {
   "cell_type": "markdown",
   "metadata": {},
   "source": [
    "| odds_ratio: statsmodel | odds_ratio: sklearn\n",
    "---|---|---\n",
    "gre         | 1.002221 | 1.002161\n",
    "gpa         | 2.180027 | 1.960413\n",
    "prestige_2  | 0.506548 | 0.533219\n",
    "prestige_3  | 0.262192 | 0.285867\n",
    "prestige_4  | 0.211525 | 0.208297\n",
    "intercept   | 0.020716 | 0.029754"
   ]
  },
  {
   "cell_type": "markdown",
   "metadata": {},
   "source": [
    "#### Student prediction: 800 GRE & 4.0 GPA:"
   ]
  },
  {
   "cell_type": "markdown",
   "metadata": {},
   "source": [
    "Prestige| prediction: statsmodel | prediction: sklearn\n",
    "---|---|---\n",
    "1|   0.711854 | 0.734040\n",
    "2|   0.568463 | 0.582995\n",
    "3|   0.413911 | 0.419833\n",
    "4|   0.339755 | 0.368608"
   ]
  },
  {
   "cell_type": "markdown",
   "metadata": {},
   "source": [
    "> ## Question 7.  Discussion\n",
    "> Write up your discussion and future steps."
   ]
  },
  {
   "cell_type": "markdown",
   "metadata": {},
   "source": [
    "Considering a student only has a 73% chance of admission if they have perfect GRE and GPA scores and attened the highest prestige ranking school, there are clearly other admissions factors not being considered in this analysis. There are likely other components which are more difficult to quantify such as extra-curricular activities, essays, and recommendation letters, etc... It would be interesting to attempt to rank this supplemental information in an attempt to increase the prediction capability of the model."
   ]
  },
  {
   "cell_type": "code",
   "execution_count": null,
   "metadata": {
    "collapsed": true
   },
   "outputs": [],
   "source": []
  }
 ],
 "metadata": {
  "anaconda-cloud": {},
  "kernelspec": {
   "display_name": "Python 2",
   "language": "python",
   "name": "python2"
  },
  "language_info": {
   "codemirror_mode": {
    "name": "ipython",
    "version": 2
   },
   "file_extension": ".py",
   "mimetype": "text/x-python",
   "name": "python",
   "nbconvert_exporter": "python",
   "pygments_lexer": "ipython2",
   "version": "2.7.11"
  }
 },
 "nbformat": 4,
 "nbformat_minor": 0
}
