{
 "cells": [
  {
   "cell_type": "code",
   "execution_count": 89,
   "metadata": {
    "collapsed": true
   },
   "outputs": [],
   "source": [
    "import os\n",
    "import pyodbc\n",
    "import numpy as np\n",
    "import pandas as pd\n",
    "import seaborn as sns\n",
    "import matplotlib.pyplot as plt\n",
    "import statsmodels.api as sm\n",
    "import statsmodels.formula.api as smf\n",
    "\n",
    "%matplotlib inline"
   ]
  },
  {
   "cell_type": "markdown",
   "metadata": {},
   "source": [
    "## Description\n",
    "### Raw Data\n",
    "##### Data from San Francisco Department of Health, aka SFDH\n",
    "- Last accessed 8/23/2016\n",
    "- https://extxfer.sfdph.org/food/SFBusinesses.zip\n",
    "- https://extxfer.sfdph.org/food/SFFoodProgram_Complete_Data.zip\n",
    "\n",
    "Files [businesses.csv, inspections.csv, violations_plus.csv] were manually put into a MS Access 2016 Database 'sf_food.accdb'. Database uses several SQL queries to form a single 'data' view.\n",
    "##### Data from Yelp\n",
    "- TBD\n",
    "\n",
    "### Database\n",
    "Since all businesses MUST receive an inspection in order to open, there is no benefit to try to predict businesses with only 1 inspection point in the data set. Additionally, in these cases any Yelp data would've been collected AFTER the businesses already received the score so therefore offer no predictive capabilityl. The idea is to prioritize inspections for establishments that would be receiving subsequent inspections.\n",
    "\n",
    "In order to do this, for each business:\n",
    "- Those with only 1 inspection score are dropped\n",
    "- A portion of the latest inspection scores will be put into the Test set\n",
    "- The remainder will be put into the Validation set\n",
    "- The prior inspection score will be put into the Training set\n",
    "\n",
    "Addition internal drops within database:\n",
    "- Only 'routine' inspection types are used. This is for proper linking with scores.\n",
    "- Any businesses without either a phone_number or lat/longitude are dropped. One of these are required for properly looking up the restaurant via Yelp.\n",
    "\n",
    "### Variables\n",
    "Dependent\n",
    "- score2; the most recent inspection score [source SFDH]\n",
    " - Note: This can be reported/predicted either as a continuous number (0-100) or as a category (1-4). See further below for category breakdowns.\n",
    "- OR risk_high2, risk_mod2, risk_low2; the number of violations by severity; these are used to calculate score2 [source SFDH]\n",
    "\n",
    "Independent\n",
    "- score1; the inspection score collected prior to score2 [source SFDH]\n",
    "- risk_high1, risk_mod1, risk_low1; the number of violations by severity; these are used to calculate score1 [source SFDH]\n",
    "- latitude, longitude; GPS coordinates of the business [source SFDH]\n",
    "- postal_code; zip code of the business [source SFDH]\n",
    "- chain; whether or not there are multiple businesses with the same name in the SFDH dataset [calculated from SFDH]\n",
    "- cuisine; the primary type of cuisine served [source Yelp]\n",
    "- district; the local district where the business is located [source Yelp]\n",
    "- rating; the reported user rating [source Yelp]\n",
    "- reviews; the numner of user reviews [source Yelp]\n",
    "- price_range; the cost of a typical meal [source Yelp]\n"
   ]
  },
  {
   "cell_type": "code",
   "execution_count": 90,
   "metadata": {
    "collapsed": false
   },
   "outputs": [],
   "source": [
    "# Database connection\n",
    "db = 'C:/Users/Daniel/Documents/Programming/sf_food/sf_food.accdb'\n",
    "conn = pyodbc.connect(r'DRIVER={Microsoft access Driver (*.mdb, *.accdb)};DBQ=%s;' % (db))\n",
    "df = pd.read_sql(\"\"\"SELECT * FROM data;\"\"\", conn)\n",
    "conn.commit()\n",
    "conn.close()"
   ]
  },
  {
   "cell_type": "code",
   "execution_count": 91,
   "metadata": {
    "collapsed": false
   },
   "outputs": [
    {
     "data": {
      "text/html": [
       "<div>\n",
       "<table border=\"1\" class=\"dataframe\">\n",
       "  <thead>\n",
       "    <tr style=\"text-align: right;\">\n",
       "      <th></th>\n",
       "      <th>business_id</th>\n",
       "      <th>name</th>\n",
       "      <th>address</th>\n",
       "      <th>postal_code</th>\n",
       "      <th>latitude</th>\n",
       "      <th>longitude</th>\n",
       "      <th>phone_number</th>\n",
       "      <th>risk_low1</th>\n",
       "      <th>risk_mod1</th>\n",
       "      <th>risk_high1</th>\n",
       "      <th>score1</th>\n",
       "      <th>risk_low2</th>\n",
       "      <th>risk_mod2</th>\n",
       "      <th>risk_high2</th>\n",
       "      <th>score2</th>\n",
       "    </tr>\n",
       "  </thead>\n",
       "  <tbody>\n",
       "    <tr>\n",
       "      <th>0</th>\n",
       "      <td>275</td>\n",
       "      <td>BEN &amp; JERRY'S</td>\n",
       "      <td>170 O'FARRELL ST BASEMENT</td>\n",
       "      <td>94102.0</td>\n",
       "      <td>37.786548</td>\n",
       "      <td>-122.407313</td>\n",
       "      <td>1.415249e+10</td>\n",
       "      <td>1.0</td>\n",
       "      <td>1.0</td>\n",
       "      <td>NaN</td>\n",
       "      <td>94</td>\n",
       "      <td>2.0</td>\n",
       "      <td>NaN</td>\n",
       "      <td>NaN</td>\n",
       "      <td>96</td>\n",
       "    </tr>\n",
       "    <tr>\n",
       "      <th>1</th>\n",
       "      <td>276</td>\n",
       "      <td>CORSAGNA</td>\n",
       "      <td>1668 UNION ST</td>\n",
       "      <td>94123.0</td>\n",
       "      <td>37.798260</td>\n",
       "      <td>-122.426748</td>\n",
       "      <td>1.415775e+10</td>\n",
       "      <td>1.0</td>\n",
       "      <td>NaN</td>\n",
       "      <td>NaN</td>\n",
       "      <td>98</td>\n",
       "      <td>NaN</td>\n",
       "      <td>NaN</td>\n",
       "      <td>NaN</td>\n",
       "      <td>100</td>\n",
       "    </tr>\n",
       "    <tr>\n",
       "      <th>2</th>\n",
       "      <td>279</td>\n",
       "      <td>INGA DONUTS</td>\n",
       "      <td>1026 HYDE ST</td>\n",
       "      <td>94109.0</td>\n",
       "      <td>37.790347</td>\n",
       "      <td>-122.417227</td>\n",
       "      <td>1.415772e+10</td>\n",
       "      <td>1.0</td>\n",
       "      <td>1.0</td>\n",
       "      <td>NaN</td>\n",
       "      <td>94</td>\n",
       "      <td>1.0</td>\n",
       "      <td>NaN</td>\n",
       "      <td>NaN</td>\n",
       "      <td>98</td>\n",
       "    </tr>\n",
       "    <tr>\n",
       "      <th>3</th>\n",
       "      <td>281</td>\n",
       "      <td>PARMA RESTAURANT</td>\n",
       "      <td>3314 STEINER ST</td>\n",
       "      <td>94123.0</td>\n",
       "      <td>37.799807</td>\n",
       "      <td>-122.437649</td>\n",
       "      <td>1.415567e+10</td>\n",
       "      <td>NaN</td>\n",
       "      <td>1.0</td>\n",
       "      <td>NaN</td>\n",
       "      <td>96</td>\n",
       "      <td>NaN</td>\n",
       "      <td>1.0</td>\n",
       "      <td>NaN</td>\n",
       "      <td>96</td>\n",
       "    </tr>\n",
       "    <tr>\n",
       "      <th>4</th>\n",
       "      <td>286</td>\n",
       "      <td>PUNJAB KABAB HOUSE</td>\n",
       "      <td>101 EDDY ST</td>\n",
       "      <td>94102.0</td>\n",
       "      <td>37.784303</td>\n",
       "      <td>-122.409647</td>\n",
       "      <td>1.415448e+10</td>\n",
       "      <td>1.0</td>\n",
       "      <td>2.0</td>\n",
       "      <td>NaN</td>\n",
       "      <td>90</td>\n",
       "      <td>5.0</td>\n",
       "      <td>1.0</td>\n",
       "      <td>2.0</td>\n",
       "      <td>72</td>\n",
       "    </tr>\n",
       "  </tbody>\n",
       "</table>\n",
       "</div>"
      ],
      "text/plain": [
       "   business_id                name                    address  postal_code  \\\n",
       "0          275       BEN & JERRY'S  170 O'FARRELL ST BASEMENT      94102.0   \n",
       "1          276            CORSAGNA             1668 UNION ST       94123.0   \n",
       "2          279         INGA DONUTS              1026 HYDE ST       94109.0   \n",
       "3          281    PARMA RESTAURANT           3314 STEINER ST       94123.0   \n",
       "4          286  PUNJAB KABAB HOUSE               101 EDDY ST       94102.0   \n",
       "\n",
       "    latitude   longitude  phone_number  risk_low1  risk_mod1  risk_high1  \\\n",
       "0  37.786548 -122.407313  1.415249e+10        1.0        1.0         NaN   \n",
       "1  37.798260 -122.426748  1.415775e+10        1.0        NaN         NaN   \n",
       "2  37.790347 -122.417227  1.415772e+10        1.0        1.0         NaN   \n",
       "3  37.799807 -122.437649  1.415567e+10        NaN        1.0         NaN   \n",
       "4  37.784303 -122.409647  1.415448e+10        1.0        2.0         NaN   \n",
       "\n",
       "   score1  risk_low2  risk_mod2  risk_high2  score2  \n",
       "0      94        2.0        NaN         NaN      96  \n",
       "1      98        NaN        NaN         NaN     100  \n",
       "2      94        1.0        NaN         NaN      98  \n",
       "3      96        NaN        1.0         NaN      96  \n",
       "4      90        5.0        1.0         2.0      72  "
      ]
     },
     "execution_count": 91,
     "metadata": {},
     "output_type": "execute_result"
    }
   ],
   "source": [
    "df.head()"
   ]
  },
  {
   "cell_type": "markdown",
   "metadata": {},
   "source": [
    "## Data Cleanup"
   ]
  },
  {
   "cell_type": "code",
   "execution_count": 92,
   "metadata": {
    "collapsed": false
   },
   "outputs": [
    {
     "data": {
      "text/html": [
       "<div>\n",
       "<table border=\"1\" class=\"dataframe\">\n",
       "  <thead>\n",
       "    <tr style=\"text-align: right;\">\n",
       "      <th></th>\n",
       "      <th>business_id</th>\n",
       "      <th>name</th>\n",
       "      <th>address</th>\n",
       "      <th>postal_code</th>\n",
       "      <th>latitude</th>\n",
       "      <th>longitude</th>\n",
       "      <th>phone_number</th>\n",
       "      <th>risk_low1</th>\n",
       "      <th>risk_mod1</th>\n",
       "      <th>risk_high1</th>\n",
       "      <th>score1</th>\n",
       "      <th>risk_low2</th>\n",
       "      <th>risk_mod2</th>\n",
       "      <th>risk_high2</th>\n",
       "      <th>score2</th>\n",
       "    </tr>\n",
       "  </thead>\n",
       "  <tbody>\n",
       "    <tr>\n",
       "      <th>0</th>\n",
       "      <td>275</td>\n",
       "      <td>BEN &amp; JERRY'S</td>\n",
       "      <td>170 O'FARRELL ST BASEMENT</td>\n",
       "      <td>94102.0</td>\n",
       "      <td>37.786548</td>\n",
       "      <td>-122.407313</td>\n",
       "      <td>1.415249e+10</td>\n",
       "      <td>1</td>\n",
       "      <td>1</td>\n",
       "      <td>0</td>\n",
       "      <td>94</td>\n",
       "      <td>2</td>\n",
       "      <td>0</td>\n",
       "      <td>0</td>\n",
       "      <td>96</td>\n",
       "    </tr>\n",
       "    <tr>\n",
       "      <th>1</th>\n",
       "      <td>276</td>\n",
       "      <td>CORSAGNA</td>\n",
       "      <td>1668 UNION ST</td>\n",
       "      <td>94123.0</td>\n",
       "      <td>37.798260</td>\n",
       "      <td>-122.426748</td>\n",
       "      <td>1.415775e+10</td>\n",
       "      <td>1</td>\n",
       "      <td>0</td>\n",
       "      <td>0</td>\n",
       "      <td>98</td>\n",
       "      <td>0</td>\n",
       "      <td>0</td>\n",
       "      <td>0</td>\n",
       "      <td>100</td>\n",
       "    </tr>\n",
       "    <tr>\n",
       "      <th>2</th>\n",
       "      <td>279</td>\n",
       "      <td>INGA DONUTS</td>\n",
       "      <td>1026 HYDE ST</td>\n",
       "      <td>94109.0</td>\n",
       "      <td>37.790347</td>\n",
       "      <td>-122.417227</td>\n",
       "      <td>1.415772e+10</td>\n",
       "      <td>1</td>\n",
       "      <td>1</td>\n",
       "      <td>0</td>\n",
       "      <td>94</td>\n",
       "      <td>1</td>\n",
       "      <td>0</td>\n",
       "      <td>0</td>\n",
       "      <td>98</td>\n",
       "    </tr>\n",
       "    <tr>\n",
       "      <th>3</th>\n",
       "      <td>281</td>\n",
       "      <td>PARMA RESTAURANT</td>\n",
       "      <td>3314 STEINER ST</td>\n",
       "      <td>94123.0</td>\n",
       "      <td>37.799807</td>\n",
       "      <td>-122.437649</td>\n",
       "      <td>1.415567e+10</td>\n",
       "      <td>0</td>\n",
       "      <td>1</td>\n",
       "      <td>0</td>\n",
       "      <td>96</td>\n",
       "      <td>0</td>\n",
       "      <td>1</td>\n",
       "      <td>0</td>\n",
       "      <td>96</td>\n",
       "    </tr>\n",
       "    <tr>\n",
       "      <th>4</th>\n",
       "      <td>286</td>\n",
       "      <td>PUNJAB KABAB HOUSE</td>\n",
       "      <td>101 EDDY ST</td>\n",
       "      <td>94102.0</td>\n",
       "      <td>37.784303</td>\n",
       "      <td>-122.409647</td>\n",
       "      <td>1.415448e+10</td>\n",
       "      <td>1</td>\n",
       "      <td>2</td>\n",
       "      <td>0</td>\n",
       "      <td>90</td>\n",
       "      <td>5</td>\n",
       "      <td>1</td>\n",
       "      <td>2</td>\n",
       "      <td>72</td>\n",
       "    </tr>\n",
       "  </tbody>\n",
       "</table>\n",
       "</div>"
      ],
      "text/plain": [
       "   business_id                name                    address  postal_code  \\\n",
       "0          275       BEN & JERRY'S  170 O'FARRELL ST BASEMENT      94102.0   \n",
       "1          276            CORSAGNA             1668 UNION ST       94123.0   \n",
       "2          279         INGA DONUTS              1026 HYDE ST       94109.0   \n",
       "3          281    PARMA RESTAURANT           3314 STEINER ST       94123.0   \n",
       "4          286  PUNJAB KABAB HOUSE               101 EDDY ST       94102.0   \n",
       "\n",
       "    latitude   longitude  phone_number  risk_low1  risk_mod1  risk_high1  \\\n",
       "0  37.786548 -122.407313  1.415249e+10          1          1           0   \n",
       "1  37.798260 -122.426748  1.415775e+10          1          0           0   \n",
       "2  37.790347 -122.417227  1.415772e+10          1          1           0   \n",
       "3  37.799807 -122.437649  1.415567e+10          0          1           0   \n",
       "4  37.784303 -122.409647  1.415448e+10          1          2           0   \n",
       "\n",
       "   score1  risk_low2  risk_mod2  risk_high2  score2  \n",
       "0      94          2          0           0      96  \n",
       "1      98          0          0           0     100  \n",
       "2      94          1          0           0      98  \n",
       "3      96          0          1           0      96  \n",
       "4      90          5          1           2      72  "
      ]
     },
     "execution_count": 92,
     "metadata": {},
     "output_type": "execute_result"
    }
   ],
   "source": [
    "# Convert NaN 'risk' values to zeros\n",
    "df[['risk_low1','risk_mod1','risk_high1']] = df[['risk_low1','risk_mod1','risk_high1']].fillna(0)\n",
    "df[['risk_low2','risk_mod2','risk_high2']] = df[['risk_low2','risk_mod2','risk_high2']].fillna(0)\n",
    "\n",
    "# Convert risk dtype to int\n",
    "df[['risk_low1','risk_mod1','risk_high1']] = df[['risk_low1','risk_mod1','risk_high1']].astype(int)\n",
    "df[['risk_low2','risk_mod2','risk_high2']] = df[['risk_low2','risk_mod2','risk_high2']].astype(int)\n",
    "df.head()"
   ]
  },
  {
   "cell_type": "markdown",
   "metadata": {},
   "source": [
    "#### Observation\n",
    "The business info list is messy. There is a lot of manually entered text so formatting is inconsistent. The next several cells are cleaning of this portion of the dataframe. A consistent name field is needed to identify whether or not a business has multiple locations within San Francisco (aka 'chain')."
   ]
  },
  {
   "cell_type": "code",
   "execution_count": 93,
   "metadata": {
    "collapsed": false
   },
   "outputs": [],
   "source": [
    "# Convert strings to lowercase to avoid case sensitivity\n",
    "for col in ['name','address']:\n",
    "    df[col] = df[col].str.lower()\n",
    "\n",
    "# Remove apostrophe marks, commas, periods, llc from name\n",
    "df.name = df.name.str.replace(\"'\",\"\")\n",
    "df.name = df.name.str.replace(\",\",\"\")\n",
    "df.name = df.name.str.replace(\".\",\"\")\n",
    "df.name = df.name.str.replace(\" llc\",\"\")\n",
    "df.name = df.name.str.replace(\" inc\",\"\")\n",
    "\n",
    "# Convert dashes, slashes, # to space\n",
    "df.name = df.name.str.replace(\"-\",\" \")\n",
    "df.name = df.name.str.replace(\"/\",\" \")\n",
    "df.name = df.name.str.replace(\"#\",\" \")\n",
    "\n",
    "# Convert ampersand, plus to 'and'\n",
    "df.name = df.name.str.replace(\"&\",\" and \")\n",
    "df.name = df.name.str.replace(\"+\",\" and \")\n",
    "\n",
    "# Convert @ to 'at'\n",
    "df.name = df.name.str.replace(\"@\",\" at \")\n",
    "\n",
    "# Remove leading and trailing whitespace\n",
    "df.name = df.name.str.strip()"
   ]
  },
  {
   "cell_type": "code",
   "execution_count": 94,
   "metadata": {
    "collapsed": false
   },
   "outputs": [],
   "source": [
    "# Handle businesses that are chains\n",
    "def FindChains(name):\n",
    "    if pd.isnull(name):\n",
    "        return np.nan\n",
    "    \n",
    "    if '7 eleven' in name:\n",
    "        return '7 eleven'\n",
    "    if 'afc sushi' in name:\n",
    "        return 'afc sushi'\n",
    "    if 'annies hot dogs' in name:\n",
    "        return 'annies hot dogs'\n",
    "    if 'bacon bacon' in name:\n",
    "        return 'bacon bacon'\n",
    "    if 'bon appetit' in name:\n",
    "        return 'bon appetit'\n",
    "    if 'burger king' in name:\n",
    "        return 'burger king'\n",
    "    if 'chipotle mex' in name:\n",
    "        return 'chipotle mexican grill'\n",
    "    if 'coffee bar' in name:\n",
    "        return 'coffee bar'\n",
    "    if 'starbuck' in name:\n",
    "        return 'starbucks'\n",
    "    if 'mollie stones' in name:\n",
    "        return 'mollie stones'\n",
    "    if ('moscone' in name) & ('center' in name):\n",
    "        return 'moscone center'\n",
    "    if 'safeway' in name:\n",
    "        return 'safeway'\n",
    "    if 'subway' in name:\n",
    "        return 'subway'\n",
    "    if 'whole foods' in name:\n",
    "        return 'whole foods market'\n",
    "    if 'mcdonalds' in name:\n",
    "        return 'mcdonalds'\n",
    "    if 'la mediterranee' in name:\n",
    "        return 'la mediterranee'\n",
    "    if 'la boulangerie' in name:\n",
    "        return 'la boulangerie'\n",
    "    if ('cvs' in name) & ('pharmacy' in name):\n",
    "        return 'cvs pharmacy'\n",
    "    else:\n",
    "        return name\n",
    "    \n",
    "df.name = df.name.apply(FindChains)"
   ]
  },
  {
   "cell_type": "code",
   "execution_count": 95,
   "metadata": {
    "collapsed": false
   },
   "outputs": [
    {
     "data": {
      "text/plain": [
       "starbucks                 69\n",
       "subway                    41\n",
       "peets coffee  and  tea    28\n",
       "7 eleven                  17\n",
       "safeway                   15\n",
       "afc sushi                 13\n",
       "walgreens                 11\n",
       "moscone center            10\n",
       "bon appetit               10\n",
       "whole foods market        10\n",
       "Name: name, dtype: int64"
      ]
     },
     "execution_count": 95,
     "metadata": {},
     "output_type": "execute_result"
    }
   ],
   "source": [
    "df.name.value_counts().head(10)"
   ]
  },
  {
   "cell_type": "code",
   "execution_count": 96,
   "metadata": {
    "collapsed": false
   },
   "outputs": [
    {
     "data": {
      "text/plain": [
       "mi ranchito produce                             1\n",
       "liberty cafe                                    1\n",
       "hickory farms  10916                            1\n",
       "acquerello                                      1\n",
       "west portal nutrition center                    1\n",
       "yum yum hunan                                   1\n",
       "at and t park virgin america flight deck bar    1\n",
       "the mint b  and  r                              1\n",
       "hollow                                          1\n",
       "brindisi                                        1\n",
       "Name: name, dtype: int64"
      ]
     },
     "execution_count": 96,
     "metadata": {},
     "output_type": "execute_result"
    }
   ],
   "source": [
    "df.name.value_counts().tail(10)"
   ]
  },
  {
   "cell_type": "code",
   "execution_count": 97,
   "metadata": {
    "collapsed": false
   },
   "outputs": [],
   "source": [
    "# Add feature 'chain' to indicate whether there is more than one restaurant in the city. \n",
    "# Note that a business could of course be a true chain with only 1 restaurant in the city and more locations elsewhere.\n",
    "\n",
    "chains = (df.name.value_counts()[(df.name.value_counts()>=2)]).index\n",
    "df['chain'] = df.name.isin(chains)*1"
   ]
  },
  {
   "cell_type": "code",
   "execution_count": 98,
   "metadata": {
    "collapsed": true
   },
   "outputs": [],
   "source": [
    "# TODO: Check if hotel (hotel in name)? Hotels have multiple inspections per address. "
   ]
  },
  {
   "cell_type": "code",
   "execution_count": 99,
   "metadata": {
    "collapsed": false
   },
   "outputs": [
    {
     "data": {
      "text/html": [
       "<div>\n",
       "<table border=\"1\" class=\"dataframe\">\n",
       "  <thead>\n",
       "    <tr style=\"text-align: right;\">\n",
       "      <th></th>\n",
       "      <th>business_id</th>\n",
       "      <th>name</th>\n",
       "      <th>address</th>\n",
       "      <th>postal_code</th>\n",
       "      <th>latitude</th>\n",
       "      <th>longitude</th>\n",
       "      <th>phone_number</th>\n",
       "      <th>risk_low1</th>\n",
       "      <th>risk_mod1</th>\n",
       "      <th>risk_high1</th>\n",
       "      <th>score1</th>\n",
       "      <th>risk_low2</th>\n",
       "      <th>risk_mod2</th>\n",
       "      <th>risk_high2</th>\n",
       "      <th>score2</th>\n",
       "      <th>chain</th>\n",
       "    </tr>\n",
       "  </thead>\n",
       "  <tbody>\n",
       "    <tr>\n",
       "      <th>0</th>\n",
       "      <td>275</td>\n",
       "      <td>ben  and  jerrys</td>\n",
       "      <td>170 o'farrell st basement</td>\n",
       "      <td>94102.0</td>\n",
       "      <td>37.786548</td>\n",
       "      <td>-122.407313</td>\n",
       "      <td>1.415249e+10</td>\n",
       "      <td>1</td>\n",
       "      <td>1</td>\n",
       "      <td>0</td>\n",
       "      <td>94</td>\n",
       "      <td>2</td>\n",
       "      <td>0</td>\n",
       "      <td>0</td>\n",
       "      <td>96</td>\n",
       "      <td>1</td>\n",
       "    </tr>\n",
       "    <tr>\n",
       "      <th>1</th>\n",
       "      <td>276</td>\n",
       "      <td>corsagna</td>\n",
       "      <td>1668 union st</td>\n",
       "      <td>94123.0</td>\n",
       "      <td>37.798260</td>\n",
       "      <td>-122.426748</td>\n",
       "      <td>1.415775e+10</td>\n",
       "      <td>1</td>\n",
       "      <td>0</td>\n",
       "      <td>0</td>\n",
       "      <td>98</td>\n",
       "      <td>0</td>\n",
       "      <td>0</td>\n",
       "      <td>0</td>\n",
       "      <td>100</td>\n",
       "      <td>0</td>\n",
       "    </tr>\n",
       "    <tr>\n",
       "      <th>2</th>\n",
       "      <td>279</td>\n",
       "      <td>inga donuts</td>\n",
       "      <td>1026 hyde st</td>\n",
       "      <td>94109.0</td>\n",
       "      <td>37.790347</td>\n",
       "      <td>-122.417227</td>\n",
       "      <td>1.415772e+10</td>\n",
       "      <td>1</td>\n",
       "      <td>1</td>\n",
       "      <td>0</td>\n",
       "      <td>94</td>\n",
       "      <td>1</td>\n",
       "      <td>0</td>\n",
       "      <td>0</td>\n",
       "      <td>98</td>\n",
       "      <td>0</td>\n",
       "    </tr>\n",
       "    <tr>\n",
       "      <th>3</th>\n",
       "      <td>281</td>\n",
       "      <td>parma restaurant</td>\n",
       "      <td>3314 steiner st</td>\n",
       "      <td>94123.0</td>\n",
       "      <td>37.799807</td>\n",
       "      <td>-122.437649</td>\n",
       "      <td>1.415567e+10</td>\n",
       "      <td>0</td>\n",
       "      <td>1</td>\n",
       "      <td>0</td>\n",
       "      <td>96</td>\n",
       "      <td>0</td>\n",
       "      <td>1</td>\n",
       "      <td>0</td>\n",
       "      <td>96</td>\n",
       "      <td>0</td>\n",
       "    </tr>\n",
       "    <tr>\n",
       "      <th>4</th>\n",
       "      <td>286</td>\n",
       "      <td>punjab kabab house</td>\n",
       "      <td>101 eddy st</td>\n",
       "      <td>94102.0</td>\n",
       "      <td>37.784303</td>\n",
       "      <td>-122.409647</td>\n",
       "      <td>1.415448e+10</td>\n",
       "      <td>1</td>\n",
       "      <td>2</td>\n",
       "      <td>0</td>\n",
       "      <td>90</td>\n",
       "      <td>5</td>\n",
       "      <td>1</td>\n",
       "      <td>2</td>\n",
       "      <td>72</td>\n",
       "      <td>0</td>\n",
       "    </tr>\n",
       "  </tbody>\n",
       "</table>\n",
       "</div>"
      ],
      "text/plain": [
       "   business_id                name                    address  postal_code  \\\n",
       "0          275    ben  and  jerrys  170 o'farrell st basement      94102.0   \n",
       "1          276            corsagna             1668 union st       94123.0   \n",
       "2          279         inga donuts              1026 hyde st       94109.0   \n",
       "3          281    parma restaurant           3314 steiner st       94123.0   \n",
       "4          286  punjab kabab house               101 eddy st       94102.0   \n",
       "\n",
       "    latitude   longitude  phone_number  risk_low1  risk_mod1  risk_high1  \\\n",
       "0  37.786548 -122.407313  1.415249e+10          1          1           0   \n",
       "1  37.798260 -122.426748  1.415775e+10          1          0           0   \n",
       "2  37.790347 -122.417227  1.415772e+10          1          1           0   \n",
       "3  37.799807 -122.437649  1.415567e+10          0          1           0   \n",
       "4  37.784303 -122.409647  1.415448e+10          1          2           0   \n",
       "\n",
       "   score1  risk_low2  risk_mod2  risk_high2  score2  chain  \n",
       "0      94          2          0           0      96      1  \n",
       "1      98          0          0           0     100      0  \n",
       "2      94          1          0           0      98      0  \n",
       "3      96          0          1           0      96      0  \n",
       "4      90          5          1           2      72      0  "
      ]
     },
     "execution_count": 99,
     "metadata": {},
     "output_type": "execute_result"
    }
   ],
   "source": [
    "df.head()"
   ]
  },
  {
   "cell_type": "code",
   "execution_count": 100,
   "metadata": {
    "collapsed": false
   },
   "outputs": [
    {
     "data": {
      "text/html": [
       "<div>\n",
       "<table border=\"1\" class=\"dataframe\">\n",
       "  <thead>\n",
       "    <tr style=\"text-align: right;\">\n",
       "      <th></th>\n",
       "      <th>business_id</th>\n",
       "      <th>name</th>\n",
       "      <th>address</th>\n",
       "      <th>postal_code</th>\n",
       "      <th>latitude</th>\n",
       "      <th>longitude</th>\n",
       "      <th>phone_number</th>\n",
       "      <th>risk_low1</th>\n",
       "      <th>risk_mod1</th>\n",
       "      <th>risk_high1</th>\n",
       "      <th>score1</th>\n",
       "      <th>risk_low2</th>\n",
       "      <th>risk_mod2</th>\n",
       "      <th>risk_high2</th>\n",
       "      <th>score2</th>\n",
       "      <th>chain</th>\n",
       "    </tr>\n",
       "  </thead>\n",
       "  <tbody>\n",
       "    <tr>\n",
       "      <th>4405</th>\n",
       "      <td>86301</td>\n",
       "      <td>cafe murano</td>\n",
       "      <td>2301 bryant st</td>\n",
       "      <td>94110.0</td>\n",
       "      <td>NaN</td>\n",
       "      <td>NaN</td>\n",
       "      <td>1.415813e+10</td>\n",
       "      <td>1</td>\n",
       "      <td>0</td>\n",
       "      <td>0</td>\n",
       "      <td>98</td>\n",
       "      <td>0</td>\n",
       "      <td>1</td>\n",
       "      <td>0</td>\n",
       "      <td>96</td>\n",
       "      <td>1</td>\n",
       "    </tr>\n",
       "    <tr>\n",
       "      <th>4406</th>\n",
       "      <td>86330</td>\n",
       "      <td>sf bistro</td>\n",
       "      <td>22 4th st</td>\n",
       "      <td>94103.0</td>\n",
       "      <td>NaN</td>\n",
       "      <td>NaN</td>\n",
       "      <td>1.415791e+10</td>\n",
       "      <td>1</td>\n",
       "      <td>2</td>\n",
       "      <td>0</td>\n",
       "      <td>90</td>\n",
       "      <td>2</td>\n",
       "      <td>1</td>\n",
       "      <td>0</td>\n",
       "      <td>92</td>\n",
       "      <td>0</td>\n",
       "    </tr>\n",
       "    <tr>\n",
       "      <th>4407</th>\n",
       "      <td>86336</td>\n",
       "      <td>cuisine of nepal</td>\n",
       "      <td>3486 b mission</td>\n",
       "      <td>94110.0</td>\n",
       "      <td>NaN</td>\n",
       "      <td>NaN</td>\n",
       "      <td>1.415288e+10</td>\n",
       "      <td>0</td>\n",
       "      <td>0</td>\n",
       "      <td>0</td>\n",
       "      <td>100</td>\n",
       "      <td>0</td>\n",
       "      <td>0</td>\n",
       "      <td>0</td>\n",
       "      <td>100</td>\n",
       "      <td>0</td>\n",
       "    </tr>\n",
       "    <tr>\n",
       "      <th>4408</th>\n",
       "      <td>87337</td>\n",
       "      <td>whisk on wheels</td>\n",
       "      <td>off the grid</td>\n",
       "      <td>NaN</td>\n",
       "      <td>NaN</td>\n",
       "      <td>NaN</td>\n",
       "      <td>1.415902e+10</td>\n",
       "      <td>2</td>\n",
       "      <td>0</td>\n",
       "      <td>0</td>\n",
       "      <td>96</td>\n",
       "      <td>1</td>\n",
       "      <td>1</td>\n",
       "      <td>0</td>\n",
       "      <td>94</td>\n",
       "      <td>0</td>\n",
       "    </tr>\n",
       "    <tr>\n",
       "      <th>4409</th>\n",
       "      <td>87699</td>\n",
       "      <td>dum</td>\n",
       "      <td>3111 24th st</td>\n",
       "      <td>94404.0</td>\n",
       "      <td>NaN</td>\n",
       "      <td>NaN</td>\n",
       "      <td>1.415619e+10</td>\n",
       "      <td>0</td>\n",
       "      <td>0</td>\n",
       "      <td>0</td>\n",
       "      <td>100</td>\n",
       "      <td>3</td>\n",
       "      <td>0</td>\n",
       "      <td>0</td>\n",
       "      <td>94</td>\n",
       "      <td>1</td>\n",
       "    </tr>\n",
       "  </tbody>\n",
       "</table>\n",
       "</div>"
      ],
      "text/plain": [
       "      business_id              name           address  postal_code  latitude  \\\n",
       "4405        86301       cafe murano   2301 bryant st       94110.0       NaN   \n",
       "4406        86330         sf bistro        22 4th st       94103.0       NaN   \n",
       "4407        86336  cuisine of nepal  3486 b mission        94110.0       NaN   \n",
       "4408        87337   whisk on wheels    off the grid            NaN       NaN   \n",
       "4409        87699               dum     3111 24th st       94404.0       NaN   \n",
       "\n",
       "      longitude  phone_number  risk_low1  risk_mod1  risk_high1  score1  \\\n",
       "4405        NaN  1.415813e+10          1          0           0      98   \n",
       "4406        NaN  1.415791e+10          1          2           0      90   \n",
       "4407        NaN  1.415288e+10          0          0           0     100   \n",
       "4408        NaN  1.415902e+10          2          0           0      96   \n",
       "4409        NaN  1.415619e+10          0          0           0     100   \n",
       "\n",
       "      risk_low2  risk_mod2  risk_high2  score2  chain  \n",
       "4405          0          1           0      96      1  \n",
       "4406          2          1           0      92      0  \n",
       "4407          0          0           0     100      0  \n",
       "4408          1          1           0      94      0  \n",
       "4409          3          0           0      94      1  "
      ]
     },
     "execution_count": 100,
     "metadata": {},
     "output_type": "execute_result"
    }
   ],
   "source": [
    "df.tail()"
   ]
  },
  {
   "cell_type": "code",
   "execution_count": 101,
   "metadata": {
    "collapsed": false,
    "scrolled": false
   },
   "outputs": [],
   "source": [
    "# Drop AT&T Park edge cases; phone numbers are identical, messy naming, and same address = no reliable way to query Yelp\n",
    "pattern = r'at and t'\n",
    "attpark = df.name.str.contains(pattern, na=False)\n",
    "df.drop(attpark[attpark==True].index, inplace=True)"
   ]
  },
  {
   "cell_type": "code",
   "execution_count": 102,
   "metadata": {
    "collapsed": false
   },
   "outputs": [
    {
     "data": {
      "text/html": [
       "<div>\n",
       "<table border=\"1\" class=\"dataframe\">\n",
       "  <thead>\n",
       "    <tr style=\"text-align: right;\">\n",
       "      <th></th>\n",
       "      <th>business_id</th>\n",
       "      <th>name</th>\n",
       "      <th>address</th>\n",
       "      <th>postal_code</th>\n",
       "      <th>latitude</th>\n",
       "      <th>longitude</th>\n",
       "      <th>phone_number</th>\n",
       "      <th>risk_low1</th>\n",
       "      <th>risk_mod1</th>\n",
       "      <th>risk_high1</th>\n",
       "      <th>score1</th>\n",
       "      <th>risk_low2</th>\n",
       "      <th>risk_mod2</th>\n",
       "      <th>risk_high2</th>\n",
       "      <th>score2</th>\n",
       "      <th>chain</th>\n",
       "      <th>norm_score1</th>\n",
       "      <th>score1_category</th>\n",
       "      <th>norm_score2</th>\n",
       "      <th>score2_category</th>\n",
       "    </tr>\n",
       "  </thead>\n",
       "  <tbody>\n",
       "    <tr>\n",
       "      <th>0</th>\n",
       "      <td>275</td>\n",
       "      <td>ben  and  jerrys</td>\n",
       "      <td>170 o'farrell st basement</td>\n",
       "      <td>94102.0</td>\n",
       "      <td>37.786548</td>\n",
       "      <td>-122.407313</td>\n",
       "      <td>1.415249e+10</td>\n",
       "      <td>1</td>\n",
       "      <td>1</td>\n",
       "      <td>0</td>\n",
       "      <td>94</td>\n",
       "      <td>2</td>\n",
       "      <td>0</td>\n",
       "      <td>0</td>\n",
       "      <td>96</td>\n",
       "      <td>1</td>\n",
       "      <td>0.886792</td>\n",
       "      <td>4</td>\n",
       "      <td>0.913043</td>\n",
       "      <td>4</td>\n",
       "    </tr>\n",
       "    <tr>\n",
       "      <th>1</th>\n",
       "      <td>276</td>\n",
       "      <td>corsagna</td>\n",
       "      <td>1668 union st</td>\n",
       "      <td>94123.0</td>\n",
       "      <td>37.798260</td>\n",
       "      <td>-122.426748</td>\n",
       "      <td>1.415775e+10</td>\n",
       "      <td>1</td>\n",
       "      <td>0</td>\n",
       "      <td>0</td>\n",
       "      <td>98</td>\n",
       "      <td>0</td>\n",
       "      <td>0</td>\n",
       "      <td>0</td>\n",
       "      <td>100</td>\n",
       "      <td>0</td>\n",
       "      <td>0.962264</td>\n",
       "      <td>4</td>\n",
       "      <td>1.000000</td>\n",
       "      <td>4</td>\n",
       "    </tr>\n",
       "    <tr>\n",
       "      <th>2</th>\n",
       "      <td>279</td>\n",
       "      <td>inga donuts</td>\n",
       "      <td>1026 hyde st</td>\n",
       "      <td>94109.0</td>\n",
       "      <td>37.790347</td>\n",
       "      <td>-122.417227</td>\n",
       "      <td>1.415772e+10</td>\n",
       "      <td>1</td>\n",
       "      <td>1</td>\n",
       "      <td>0</td>\n",
       "      <td>94</td>\n",
       "      <td>1</td>\n",
       "      <td>0</td>\n",
       "      <td>0</td>\n",
       "      <td>98</td>\n",
       "      <td>0</td>\n",
       "      <td>0.886792</td>\n",
       "      <td>4</td>\n",
       "      <td>0.956522</td>\n",
       "      <td>4</td>\n",
       "    </tr>\n",
       "    <tr>\n",
       "      <th>3</th>\n",
       "      <td>281</td>\n",
       "      <td>parma restaurant</td>\n",
       "      <td>3314 steiner st</td>\n",
       "      <td>94123.0</td>\n",
       "      <td>37.799807</td>\n",
       "      <td>-122.437649</td>\n",
       "      <td>1.415567e+10</td>\n",
       "      <td>0</td>\n",
       "      <td>1</td>\n",
       "      <td>0</td>\n",
       "      <td>96</td>\n",
       "      <td>0</td>\n",
       "      <td>1</td>\n",
       "      <td>0</td>\n",
       "      <td>96</td>\n",
       "      <td>0</td>\n",
       "      <td>0.924528</td>\n",
       "      <td>4</td>\n",
       "      <td>0.913043</td>\n",
       "      <td>4</td>\n",
       "    </tr>\n",
       "    <tr>\n",
       "      <th>4</th>\n",
       "      <td>286</td>\n",
       "      <td>punjab kabab house</td>\n",
       "      <td>101 eddy st</td>\n",
       "      <td>94102.0</td>\n",
       "      <td>37.784303</td>\n",
       "      <td>-122.409647</td>\n",
       "      <td>1.415448e+10</td>\n",
       "      <td>1</td>\n",
       "      <td>2</td>\n",
       "      <td>0</td>\n",
       "      <td>90</td>\n",
       "      <td>5</td>\n",
       "      <td>1</td>\n",
       "      <td>2</td>\n",
       "      <td>72</td>\n",
       "      <td>0</td>\n",
       "      <td>0.811321</td>\n",
       "      <td>3</td>\n",
       "      <td>0.391304</td>\n",
       "      <td>2</td>\n",
       "    </tr>\n",
       "  </tbody>\n",
       "</table>\n",
       "</div>"
      ],
      "text/plain": [
       "   business_id                name                    address  postal_code  \\\n",
       "0          275    ben  and  jerrys  170 o'farrell st basement      94102.0   \n",
       "1          276            corsagna             1668 union st       94123.0   \n",
       "2          279         inga donuts              1026 hyde st       94109.0   \n",
       "3          281    parma restaurant           3314 steiner st       94123.0   \n",
       "4          286  punjab kabab house               101 eddy st       94102.0   \n",
       "\n",
       "    latitude   longitude  phone_number  risk_low1  risk_mod1  risk_high1  \\\n",
       "0  37.786548 -122.407313  1.415249e+10          1          1           0   \n",
       "1  37.798260 -122.426748  1.415775e+10          1          0           0   \n",
       "2  37.790347 -122.417227  1.415772e+10          1          1           0   \n",
       "3  37.799807 -122.437649  1.415567e+10          0          1           0   \n",
       "4  37.784303 -122.409647  1.415448e+10          1          2           0   \n",
       "\n",
       "   score1  risk_low2  risk_mod2  risk_high2  score2  chain  norm_score1  \\\n",
       "0      94          2          0           0      96      1     0.886792   \n",
       "1      98          0          0           0     100      0     0.962264   \n",
       "2      94          1          0           0      98      0     0.886792   \n",
       "3      96          0          1           0      96      0     0.924528   \n",
       "4      90          5          1           2      72      0     0.811321   \n",
       "\n",
       "   score1_category  norm_score2  score2_category  \n",
       "0                4     0.913043                4  \n",
       "1                4     1.000000                4  \n",
       "2                4     0.956522                4  \n",
       "3                4     0.913043                4  \n",
       "4                3     0.391304                2  "
      ]
     },
     "execution_count": 102,
     "metadata": {},
     "output_type": "execute_result"
    }
   ],
   "source": [
    "# Normalize and categorize the response vector, score2, and the prior inspection score, score1.\n",
    "\n",
    "for score in ['score1','score2']:\n",
    "    # Normalized score\n",
    "    df['norm_'+score] = (df[score] - df[score].min()) / (df[score].max() - df[score].min())\n",
    "    \n",
    "    # Bin scores according to SF Department of Health guidelines\n",
    "    number = df[score]\n",
    "    level_1 = (number <= 70)                    # Poor\n",
    "    level_2 = ((number >= 71) & (number <= 85)) # Needs improvement\n",
    "    level_3 = ((number >= 86) & (number <= 90)) # Adequate\n",
    "\n",
    "    label = score+'_category'\n",
    "    df[label] = 4              # Good\n",
    "    df.loc[level_1, label] = 1 # Poor\n",
    "    df.loc[level_2, label] = 2 # Needs improvement\n",
    "    df.loc[level_3, label] = 3 # Adequate\n",
    "\n",
    "score = 'score2'\n",
    "\n",
    "df.head()"
   ]
  },
  {
   "cell_type": "code",
   "execution_count": 103,
   "metadata": {
    "collapsed": false,
    "scrolled": true
   },
   "outputs": [
    {
     "data": {
      "image/png": "[encoded data removed]",
      "text/plain": [
       "<matplotlib.figure.Figure at 0x1b7526d8>"
      ]
     },
     "metadata": {},
     "output_type": "display_data"
    }
   ],
   "source": [
    "risk1_plot = sns.pairplot(data=df, x_vars = ['risk_low1','risk_mod1','risk_high1'], \n",
    "             y_vars = ['norm_score1'], hue='score1_category')"
   ]
  },
  {
   "cell_type": "code",
   "execution_count": 104,
   "metadata": {
    "collapsed": false
   },
   "outputs": [
    {
     "data": {
      "text/html": [
       "<table class=\"simpletable\">\n",
       "<caption>OLS Regression Results</caption>\n",
       "<tr>\n",
       "  <th>Dep. Variable:</th>         <td>score1</td>      <th>  R-squared:         </th> <td>   0.976</td> \n",
       "</tr>\n",
       "<tr>\n",
       "  <th>Model:</th>                   <td>OLS</td>       <th>  Adj. R-squared:    </th> <td>   0.976</td> \n",
       "</tr>\n",
       "<tr>\n",
       "  <th>Method:</th>             <td>Least Squares</td>  <th>  F-statistic:       </th> <td>5.679e+04</td>\n",
       "</tr>\n",
       "<tr>\n",
       "  <th>Date:</th>             <td>Wed, 24 Aug 2016</td> <th>  Prob (F-statistic):</th>  <td>  0.00</td>  \n",
       "</tr>\n",
       "<tr>\n",
       "  <th>Time:</th>                 <td>12:11:55</td>     <th>  Log-Likelihood:    </th> <td> -7188.3</td> \n",
       "</tr>\n",
       "<tr>\n",
       "  <th>No. Observations:</th>      <td>  4264</td>      <th>  AIC:               </th> <td>1.438e+04</td>\n",
       "</tr>\n",
       "<tr>\n",
       "  <th>Df Residuals:</th>          <td>  4260</td>      <th>  BIC:               </th> <td>1.441e+04</td>\n",
       "</tr>\n",
       "<tr>\n",
       "  <th>Df Model:</th>              <td>     3</td>      <th>                     </th>     <td> </td>    \n",
       "</tr>\n",
       "<tr>\n",
       "  <th>Covariance Type:</th>      <td>nonrobust</td>    <th>                     </th>     <td> </td>    \n",
       "</tr>\n",
       "</table>\n",
       "<table class=\"simpletable\">\n",
       "<tr>\n",
       "       <td></td>         <th>coef</th>     <th>std err</th>      <th>t</th>      <th>P>|t|</th> <th>[95.0% Conf. Int.]</th> \n",
       "</tr>\n",
       "<tr>\n",
       "  <th>Intercept</th>  <td>   99.7767</td> <td>    0.031</td> <td> 3188.168</td> <td> 0.000</td> <td>   99.715    99.838</td>\n",
       "</tr>\n",
       "<tr>\n",
       "  <th>risk_low1</th>  <td>   -1.9491</td> <td>    0.014</td> <td> -138.691</td> <td> 0.000</td> <td>   -1.977    -1.922</td>\n",
       "</tr>\n",
       "<tr>\n",
       "  <th>risk_mod1</th>  <td>   -3.8919</td> <td>    0.020</td> <td> -191.810</td> <td> 0.000</td> <td>   -3.932    -3.852</td>\n",
       "</tr>\n",
       "<tr>\n",
       "  <th>risk_high1</th> <td>   -6.9787</td> <td>    0.028</td> <td> -247.310</td> <td> 0.000</td> <td>   -7.034    -6.923</td>\n",
       "</tr>\n",
       "</table>\n",
       "<table class=\"simpletable\">\n",
       "<tr>\n",
       "  <th>Omnibus:</th>       <td>3242.941</td> <th>  Durbin-Watson:     </th>  <td>   2.010</td>  \n",
       "</tr>\n",
       "<tr>\n",
       "  <th>Prob(Omnibus):</th>  <td> 0.000</td>  <th>  Jarque-Bera (JB):  </th> <td>8234596.914</td>\n",
       "</tr>\n",
       "<tr>\n",
       "  <th>Skew:</th>           <td> 2.068</td>  <th>  Prob(JB):          </th>  <td>    0.00</td>  \n",
       "</tr>\n",
       "<tr>\n",
       "  <th>Kurtosis:</th>       <td>218.247</td> <th>  Cond. No.          </th>  <td>    4.03</td>  \n",
       "</tr>\n",
       "</table>"
      ],
      "text/plain": [
       "<class 'statsmodels.iolib.summary.Summary'>\n",
       "\"\"\"\n",
       "                            OLS Regression Results                            \n",
       "==============================================================================\n",
       "Dep. Variable:                 score1   R-squared:                       0.976\n",
       "Model:                            OLS   Adj. R-squared:                  0.976\n",
       "Method:                 Least Squares   F-statistic:                 5.679e+04\n",
       "Date:                Wed, 24 Aug 2016   Prob (F-statistic):               0.00\n",
       "Time:                        12:11:55   Log-Likelihood:                -7188.3\n",
       "No. Observations:                4264   AIC:                         1.438e+04\n",
       "Df Residuals:                    4260   BIC:                         1.441e+04\n",
       "Df Model:                           3                                         \n",
       "Covariance Type:            nonrobust                                         \n",
       "==============================================================================\n",
       "                 coef    std err          t      P>|t|      [95.0% Conf. Int.]\n",
       "------------------------------------------------------------------------------\n",
       "Intercept     99.7767      0.031   3188.168      0.000        99.715    99.838\n",
       "risk_low1     -1.9491      0.014   -138.691      0.000        -1.977    -1.922\n",
       "risk_mod1     -3.8919      0.020   -191.810      0.000        -3.932    -3.852\n",
       "risk_high1    -6.9787      0.028   -247.310      0.000        -7.034    -6.923\n",
       "==============================================================================\n",
       "Omnibus:                     3242.941   Durbin-Watson:                   2.010\n",
       "Prob(Omnibus):                  0.000   Jarque-Bera (JB):          8234596.914\n",
       "Skew:                           2.068   Prob(JB):                         0.00\n",
       "Kurtosis:                     218.247   Cond. No.                         4.03\n",
       "==============================================================================\n",
       "\n",
       "Warnings:\n",
       "[1] Standard Errors assume that the covariance matrix of the errors is correctly specified.\n",
       "\"\"\""
      ]
     },
     "execution_count": 104,
     "metadata": {},
     "output_type": "execute_result"
    }
   ],
   "source": [
    "# Determine the SF Health Department scoring system based on number of each level of risk violation vs. score1\n",
    "model = smf.ols(formula = 'score1 ~ risk_low1 + risk_mod1 + risk_high1', data=df).fit()\n",
    "model.summary()"
   ]
  },
  {
   "cell_type": "code",
   "execution_count": 105,
   "metadata": {
    "collapsed": false
   },
   "outputs": [
    {
     "data": {
      "text/html": [
       "<table class=\"simpletable\">\n",
       "<caption>OLS Regression Results</caption>\n",
       "<tr>\n",
       "  <th>Dep. Variable:</th>         <td>score2</td>      <th>  R-squared:         </th> <td>   0.969</td> \n",
       "</tr>\n",
       "<tr>\n",
       "  <th>Model:</th>                   <td>OLS</td>       <th>  Adj. R-squared:    </th> <td>   0.969</td> \n",
       "</tr>\n",
       "<tr>\n",
       "  <th>Method:</th>             <td>Least Squares</td>  <th>  F-statistic:       </th> <td>4.436e+04</td>\n",
       "</tr>\n",
       "<tr>\n",
       "  <th>Date:</th>             <td>Wed, 24 Aug 2016</td> <th>  Prob (F-statistic):</th>  <td>  0.00</td>  \n",
       "</tr>\n",
       "<tr>\n",
       "  <th>Time:</th>                 <td>12:11:55</td>     <th>  Log-Likelihood:    </th> <td> -7680.7</td> \n",
       "</tr>\n",
       "<tr>\n",
       "  <th>No. Observations:</th>      <td>  4264</td>      <th>  AIC:               </th> <td>1.537e+04</td>\n",
       "</tr>\n",
       "<tr>\n",
       "  <th>Df Residuals:</th>          <td>  4260</td>      <th>  BIC:               </th> <td>1.539e+04</td>\n",
       "</tr>\n",
       "<tr>\n",
       "  <th>Df Model:</th>              <td>     3</td>      <th>                     </th>     <td> </td>    \n",
       "</tr>\n",
       "<tr>\n",
       "  <th>Covariance Type:</th>      <td>nonrobust</td>    <th>                     </th>     <td> </td>    \n",
       "</tr>\n",
       "</table>\n",
       "<table class=\"simpletable\">\n",
       "<tr>\n",
       "       <td></td>         <th>coef</th>     <th>std err</th>      <th>t</th>      <th>P>|t|</th> <th>[95.0% Conf. Int.]</th> \n",
       "</tr>\n",
       "<tr>\n",
       "  <th>Intercept</th>  <td>   99.6748</td> <td>    0.038</td> <td> 2647.317</td> <td> 0.000</td> <td>   99.601    99.749</td>\n",
       "</tr>\n",
       "<tr>\n",
       "  <th>risk_low2</th>  <td>   -1.9269</td> <td>    0.016</td> <td> -120.948</td> <td> 0.000</td> <td>   -1.958    -1.896</td>\n",
       "</tr>\n",
       "<tr>\n",
       "  <th>risk_mod2</th>  <td>   -3.9260</td> <td>    0.022</td> <td> -180.860</td> <td> 0.000</td> <td>   -3.969    -3.883</td>\n",
       "</tr>\n",
       "<tr>\n",
       "  <th>risk_high2</th> <td>   -6.9243</td> <td>    0.031</td> <td> -221.693</td> <td> 0.000</td> <td>   -6.986    -6.863</td>\n",
       "</tr>\n",
       "</table>\n",
       "<table class=\"simpletable\">\n",
       "<tr>\n",
       "  <th>Omnibus:</th>       <td>6421.059</td> <th>  Durbin-Watson:     </th>  <td>   1.999</td>  \n",
       "</tr>\n",
       "<tr>\n",
       "  <th>Prob(Omnibus):</th>  <td> 0.000</td>  <th>  Jarque-Bera (JB):  </th> <td>6010512.945</td>\n",
       "</tr>\n",
       "<tr>\n",
       "  <th>Skew:</th>           <td>-8.898</td>  <th>  Prob(JB):          </th>  <td>    0.00</td>  \n",
       "</tr>\n",
       "<tr>\n",
       "  <th>Kurtosis:</th>       <td>186.067</td> <th>  Cond. No.          </th>  <td>    4.53</td>  \n",
       "</tr>\n",
       "</table>"
      ],
      "text/plain": [
       "<class 'statsmodels.iolib.summary.Summary'>\n",
       "\"\"\"\n",
       "                            OLS Regression Results                            \n",
       "==============================================================================\n",
       "Dep. Variable:                 score2   R-squared:                       0.969\n",
       "Model:                            OLS   Adj. R-squared:                  0.969\n",
       "Method:                 Least Squares   F-statistic:                 4.436e+04\n",
       "Date:                Wed, 24 Aug 2016   Prob (F-statistic):               0.00\n",
       "Time:                        12:11:55   Log-Likelihood:                -7680.7\n",
       "No. Observations:                4264   AIC:                         1.537e+04\n",
       "Df Residuals:                    4260   BIC:                         1.539e+04\n",
       "Df Model:                           3                                         \n",
       "Covariance Type:            nonrobust                                         \n",
       "==============================================================================\n",
       "                 coef    std err          t      P>|t|      [95.0% Conf. Int.]\n",
       "------------------------------------------------------------------------------\n",
       "Intercept     99.6748      0.038   2647.317      0.000        99.601    99.749\n",
       "risk_low2     -1.9269      0.016   -120.948      0.000        -1.958    -1.896\n",
       "risk_mod2     -3.9260      0.022   -180.860      0.000        -3.969    -3.883\n",
       "risk_high2    -6.9243      0.031   -221.693      0.000        -6.986    -6.863\n",
       "==============================================================================\n",
       "Omnibus:                     6421.059   Durbin-Watson:                   1.999\n",
       "Prob(Omnibus):                  0.000   Jarque-Bera (JB):          6010512.945\n",
       "Skew:                          -8.898   Prob(JB):                         0.00\n",
       "Kurtosis:                     186.067   Cond. No.                         4.53\n",
       "==============================================================================\n",
       "\n",
       "Warnings:\n",
       "[1] Standard Errors assume that the covariance matrix of the errors is correctly specified.\n",
       "\"\"\""
      ]
     },
     "execution_count": 105,
     "metadata": {},
     "output_type": "execute_result"
    }
   ],
   "source": [
    "model = smf.ols(formula = 'score2 ~ risk_low2 + risk_mod2 + risk_high2', data=df).fit()\n",
    "model.summary()"
   ]
  },
  {
   "cell_type": "code",
   "execution_count": 106,
   "metadata": {
    "collapsed": false
   },
   "outputs": [
    {
     "data": {
      "text/plain": [
       "Intercept     100.0\n",
       "risk_low2      -2.0\n",
       "risk_mod2      -4.0\n",
       "risk_high2     -7.0\n",
       "dtype: float64"
      ]
     },
     "execution_count": 106,
     "metadata": {},
     "output_type": "execute_result"
    }
   ],
   "source": [
    "model.params.round()"
   ]
  },
  {
   "cell_type": "markdown",
   "metadata": {},
   "source": [
    "#### Score formula\n",
    "score = 100 - 2 x risk_low - 4 x risk_mod - 7 x risk_high\n",
    "\n",
    "#### Observation\n",
    "There seem to be some differences between the reported score and the score calculated from the frequency of violation type (Rsquare 0.98-0.97), otherwise the above model would be a perfect fit (Rsquare = 1). The differences will need to be investigated as outliers and determine which score is correct."
   ]
  },
  {
   "cell_type": "code",
   "execution_count": 107,
   "metadata": {
    "collapsed": false
   },
   "outputs": [],
   "source": [
    "def CalcScore1(df):\n",
    "    model = smf.ols(formula = 'score1 ~ risk_low1 + risk_mod1 + risk_high1', data=df).fit()\n",
    "    model.params = model.params.round()\n",
    "    df['score1_calc']=model.params.Intercept + model.params.risk_low1 * df.risk_low1 + \\\n",
    "    model.params.risk_mod1 * df.risk_mod1 + model.params.risk_high1 * df.risk_high1\n",
    "    \n",
    "def CalcScore2(df):\n",
    "    model = smf.ols(formula = 'score2 ~ risk_low2 + risk_mod2 + risk_high2', data=df).fit()\n",
    "    model.params = model.params.round()\n",
    "    df['score2_calc']=model.params.Intercept + model.params.risk_low2 * df.risk_low2 + \\\n",
    "    model.params.risk_mod2 * df.risk_mod2 + model.params.risk_high2 * df.risk_high2"
   ]
  },
  {
   "cell_type": "code",
   "execution_count": 108,
   "metadata": {
    "collapsed": false
   },
   "outputs": [],
   "source": [
    "dataframe = df.copy()\n",
    "CalcScore1(dataframe)\n",
    "CalcScore2(dataframe)"
   ]
  },
  {
   "cell_type": "code",
   "execution_count": 109,
   "metadata": {
    "collapsed": false
   },
   "outputs": [
    {
     "data": {
      "image/png": "[encoded data removed]",
      "text/plain": [
       "<matplotlib.figure.Figure at 0x1b2b4080>"
      ]
     },
     "metadata": {},
     "output_type": "display_data"
    }
   ],
   "source": [
    "# Score1 outliers\n",
    "score1calc_score1 = sns.jointplot(x='score1_calc',y='score1',data=dataframe,kind='reg')"
   ]
  },
  {
   "cell_type": "code",
   "execution_count": 110,
   "metadata": {
    "collapsed": false,
    "scrolled": false
   },
   "outputs": [
    {
     "data": {
      "image/png": "[encoded data removed]",
      "text/plain": [
       "<matplotlib.figure.Figure at 0x1c091320>"
      ]
     },
     "metadata": {},
     "output_type": "display_data"
    }
   ],
   "source": [
    "# Score2 outliers\n",
    "score1calc_score2 = sns.jointplot(x='score2_calc',y='score2',data=dataframe,kind='reg')"
   ]
  },
  {
   "cell_type": "code",
   "execution_count": 111,
   "metadata": {
    "collapsed": false
   },
   "outputs": [
    {
     "name": "stdout",
     "output_type": "stream",
     "text": [
      "\n",
      "score1:\n",
      "4264\n",
      "61\n",
      "1.43058161351\n",
      "\n",
      "score2:\n",
      "4264\n",
      "69\n",
      "1.6181988743\n",
      "\n",
      "score both:\n",
      "4264\n",
      "125\n",
      "2.93151969981\n"
     ]
    }
   ],
   "source": [
    "score_difference1 = dataframe[abs(dataframe.score1_calc - dataframe.score1)>2]\n",
    "print('\\nscore1:')\n",
    "print(len(dataframe))\n",
    "print(len(score_difference1))\n",
    "print(len(score_difference1)*100./len(dataframe))\n",
    "\n",
    "score_difference2 = dataframe[abs(dataframe.score2_calc - dataframe.score2)>2]\n",
    "print('\\nscore2:')\n",
    "print(len(dataframe))\n",
    "print(len(score_difference2))\n",
    "print(len(score_difference2)*100./len(dataframe))\n",
    "\n",
    "score_difference_both = dataframe[(abs(dataframe.score1_calc - dataframe.score1)>2) | \n",
    "                                  (abs(dataframe.score2_calc - dataframe.score2)>2)]\n",
    "print('\\nscore both:')\n",
    "print(len(dataframe))\n",
    "print(len(score_difference_both))\n",
    "print(len(score_difference_both)*100./len(dataframe))"
   ]
  },
  {
   "cell_type": "markdown",
   "metadata": {},
   "source": [
    "#### Observation\n",
    "Only 125 out of 4264 businesses have scores that do not meet their predicted scores to within 2 points. Since this is only ~3% of the observations, it is easier to justify dropping them then trying to reconcile why the scores may differ."
   ]
  },
  {
   "cell_type": "code",
   "execution_count": 112,
   "metadata": {
    "collapsed": false
   },
   "outputs": [],
   "source": [
    "# Drop rows where the reported scores don't match the calculated scores.\n",
    "dataframe.drop(score_difference_both.index,inplace=True)\n",
    "df = dataframe"
   ]
  },
  {
   "cell_type": "code",
   "execution_count": 113,
   "metadata": {
    "collapsed": false
   },
   "outputs": [],
   "source": [
    "# Split into train/test dataframes\n",
    "train = df.sample(frac = .7, random_state = 1)\n",
    "test = df.drop(train.index)"
   ]
  },
  {
   "cell_type": "code",
   "execution_count": 126,
   "metadata": {
    "collapsed": false
   },
   "outputs": [
    {
     "data": {
      "image/png": "[encoded data removed]",
      "text/plain": [
       "<matplotlib.figure.Figure at 0x193ad2b0>"
      ]
     },
     "metadata": {},
     "output_type": "display_data"
    }
   ],
   "source": [
    "risk1_plot = sns.pairplot(data=train, x_vars = ['risk_low1','risk_mod1','risk_high1'], \n",
    "             y_vars = ['norm_score1'], hue='score1_category')"
   ]
  },
  {
   "cell_type": "code",
   "execution_count": 114,
   "metadata": {
    "collapsed": false
   },
   "outputs": [
    {
     "name": "stdout",
     "output_type": "stream",
     "text": [
      "Rsquareds for score1_calc and score2_calc:\n",
      "1.0\n",
      "1.0\n"
     ]
    }
   ],
   "source": [
    "# Re-visit score prediction now with the outliers (see cells above) removed\n",
    "model = smf.ols(formula = 'score1 ~ risk_low1 + risk_mod1 + risk_high1', data=train).fit()\n",
    "print('Rsquareds for score1_calc and score2_calc:')\n",
    "print(model.rsquared.round(2))\n",
    "model = smf.ols(formula = 'score2 ~ risk_low2 + risk_mod2 + risk_high2', data=train).fit()\n",
    "print(model.rsquared.round(2))"
   ]
  },
  {
   "cell_type": "markdown",
   "metadata": {},
   "source": [
    "#### Observation\n",
    "As expected, the predicted scores now match the reported scores."
   ]
  },
  {
   "cell_type": "markdown",
   "metadata": {},
   "source": [
    "## Exploratory Data Analysis"
   ]
  },
  {
   "cell_type": "code",
   "execution_count": 115,
   "metadata": {
    "collapsed": false
   },
   "outputs": [
    {
     "data": {
      "image/png": "[encoded data removed]",
      "text/plain": [
       "<matplotlib.figure.Figure at 0x1f83c710>"
      ]
     },
     "metadata": {},
     "output_type": "display_data"
    }
   ],
   "source": [
    "hist_score = train[score].hist(bins=np.arange(0,105,5),figsize=(10,5))"
   ]
  },
  {
   "cell_type": "code",
   "execution_count": 116,
   "metadata": {
    "collapsed": false,
    "scrolled": true
   },
   "outputs": [
    {
     "data": {
      "image/png": "[encoded data removed]",
      "text/plain": [
       "<matplotlib.figure.Figure at 0x1abd3588>"
      ]
     },
     "metadata": {},
     "output_type": "display_data"
    }
   ],
   "source": [
    "hist_norm_score = train['norm_'+score].hist(bins=np.arange(0,1.05,.05),figsize=(10,5))"
   ]
  },
  {
   "cell_type": "code",
   "execution_count": 117,
   "metadata": {
    "collapsed": false,
    "scrolled": false
   },
   "outputs": [
    {
     "data": {
      "image/png": "[encoded data removed]",
      "text/plain": [
       "<matplotlib.figure.Figure at 0x1a2b7e80>"
      ]
     },
     "metadata": {},
     "output_type": "display_data"
    }
   ],
   "source": [
    "hist_diff = (train.norm_score1-train.norm_score2).hist(bins=np.arange(-.8,.9,.1))"
   ]
  },
  {
   "cell_type": "markdown",
   "metadata": {},
   "source": [
    "#### Observation\n",
    "The difference between score1 and score2 appears to be normally distributed."
   ]
  },
  {
   "cell_type": "code",
   "execution_count": 118,
   "metadata": {
    "collapsed": false,
    "scrolled": false
   },
   "outputs": [
    {
     "data": {
      "image/png": "[encoded data removed]",
      "text/plain": [
       "<matplotlib.figure.Figure at 0xbf62ef0>"
      ]
     },
     "metadata": {},
     "output_type": "display_data"
    }
   ],
   "source": [
    "score_score = sns.jointplot(x='score1',y='score2',data=train,kind='reg')"
   ]
  },
  {
   "cell_type": "code",
   "execution_count": 119,
   "metadata": {
    "collapsed": false
   },
   "outputs": [
    {
     "data": {
      "text/html": [
       "<table class=\"simpletable\">\n",
       "<caption>OLS Regression Results</caption>\n",
       "<tr>\n",
       "  <th>Dep. Variable:</th>         <td>score2</td>      <th>  R-squared:         </th> <td>   0.291</td> \n",
       "</tr>\n",
       "<tr>\n",
       "  <th>Model:</th>                   <td>OLS</td>       <th>  Adj. R-squared:    </th> <td>   0.291</td> \n",
       "</tr>\n",
       "<tr>\n",
       "  <th>Method:</th>             <td>Least Squares</td>  <th>  F-statistic:       </th> <td>   1190.</td> \n",
       "</tr>\n",
       "<tr>\n",
       "  <th>Date:</th>             <td>Wed, 24 Aug 2016</td> <th>  Prob (F-statistic):</th> <td>9.47e-219</td>\n",
       "</tr>\n",
       "<tr>\n",
       "  <th>Time:</th>                 <td>12:11:57</td>     <th>  Log-Likelihood:    </th> <td> -9762.9</td> \n",
       "</tr>\n",
       "<tr>\n",
       "  <th>No. Observations:</th>      <td>  2897</td>      <th>  AIC:               </th> <td>1.953e+04</td>\n",
       "</tr>\n",
       "<tr>\n",
       "  <th>Df Residuals:</th>          <td>  2895</td>      <th>  BIC:               </th> <td>1.954e+04</td>\n",
       "</tr>\n",
       "<tr>\n",
       "  <th>Df Model:</th>              <td>     1</td>      <th>                     </th>     <td> </td>    \n",
       "</tr>\n",
       "<tr>\n",
       "  <th>Covariance Type:</th>      <td>nonrobust</td>    <th>                     </th>     <td> </td>    \n",
       "</tr>\n",
       "</table>\n",
       "<table class=\"simpletable\">\n",
       "<tr>\n",
       "      <td></td>         <th>coef</th>     <th>std err</th>      <th>t</th>      <th>P>|t|</th> <th>[95.0% Conf. Int.]</th> \n",
       "</tr>\n",
       "<tr>\n",
       "  <th>Intercept</th> <td>   40.7787</td> <td>    1.426</td> <td>   28.589</td> <td> 0.000</td> <td>   37.982    43.576</td>\n",
       "</tr>\n",
       "<tr>\n",
       "  <th>score1</th>    <td>    0.5378</td> <td>    0.016</td> <td>   34.496</td> <td> 0.000</td> <td>    0.507     0.568</td>\n",
       "</tr>\n",
       "</table>\n",
       "<table class=\"simpletable\">\n",
       "<tr>\n",
       "  <th>Omnibus:</th>       <td>428.483</td> <th>  Durbin-Watson:     </th> <td>   1.988</td> \n",
       "</tr>\n",
       "<tr>\n",
       "  <th>Prob(Omnibus):</th> <td> 0.000</td>  <th>  Jarque-Bera (JB):  </th> <td> 746.631</td> \n",
       "</tr>\n",
       "<tr>\n",
       "  <th>Skew:</th>          <td>-0.959</td>  <th>  Prob(JB):          </th> <td>7.43e-163</td>\n",
       "</tr>\n",
       "<tr>\n",
       "  <th>Kurtosis:</th>      <td> 4.584</td>  <th>  Cond. No.          </th> <td>    998.</td> \n",
       "</tr>\n",
       "</table>"
      ],
      "text/plain": [
       "<class 'statsmodels.iolib.summary.Summary'>\n",
       "\"\"\"\n",
       "                            OLS Regression Results                            \n",
       "==============================================================================\n",
       "Dep. Variable:                 score2   R-squared:                       0.291\n",
       "Model:                            OLS   Adj. R-squared:                  0.291\n",
       "Method:                 Least Squares   F-statistic:                     1190.\n",
       "Date:                Wed, 24 Aug 2016   Prob (F-statistic):          9.47e-219\n",
       "Time:                        12:11:57   Log-Likelihood:                -9762.9\n",
       "No. Observations:                2897   AIC:                         1.953e+04\n",
       "Df Residuals:                    2895   BIC:                         1.954e+04\n",
       "Df Model:                           1                                         \n",
       "Covariance Type:            nonrobust                                         \n",
       "==============================================================================\n",
       "                 coef    std err          t      P>|t|      [95.0% Conf. Int.]\n",
       "------------------------------------------------------------------------------\n",
       "Intercept     40.7787      1.426     28.589      0.000        37.982    43.576\n",
       "score1         0.5378      0.016     34.496      0.000         0.507     0.568\n",
       "==============================================================================\n",
       "Omnibus:                      428.483   Durbin-Watson:                   1.988\n",
       "Prob(Omnibus):                  0.000   Jarque-Bera (JB):              746.631\n",
       "Skew:                          -0.959   Prob(JB):                    7.43e-163\n",
       "Kurtosis:                       4.584   Cond. No.                         998.\n",
       "==============================================================================\n",
       "\n",
       "Warnings:\n",
       "[1] Standard Errors assume that the covariance matrix of the errors is correctly specified.\n",
       "\"\"\""
      ]
     },
     "execution_count": 119,
     "metadata": {},
     "output_type": "execute_result"
    }
   ],
   "source": [
    "model = smf.ols(formula = 'score2 ~ score1', data=train).fit()\n",
    "model.summary()"
   ]
  },
  {
   "cell_type": "code",
   "execution_count": 120,
   "metadata": {
    "collapsed": false,
    "scrolled": true
   },
   "outputs": [
    {
     "data": {
      "image/png": "[encoded data removed]",
      "text/plain": [
       "<matplotlib.figure.Figure at 0x1c09a128>"
      ]
     },
     "metadata": {},
     "output_type": "display_data"
    }
   ],
   "source": [
    "cat_cat = sns.lmplot(x='score1_category', y='score2_category', data=train, x_jitter=.15, y_jitter=.15)"
   ]
  },
  {
   "cell_type": "code",
   "execution_count": 121,
   "metadata": {
    "collapsed": false
   },
   "outputs": [
    {
     "data": {
      "text/html": [
       "<table class=\"simpletable\">\n",
       "<caption>OLS Regression Results</caption>\n",
       "<tr>\n",
       "  <th>Dep. Variable:</th>     <td>score2_category</td> <th>  R-squared:         </th> <td>   0.230</td> \n",
       "</tr>\n",
       "<tr>\n",
       "  <th>Model:</th>                   <td>OLS</td>       <th>  Adj. R-squared:    </th> <td>   0.229</td> \n",
       "</tr>\n",
       "<tr>\n",
       "  <th>Method:</th>             <td>Least Squares</td>  <th>  F-statistic:       </th> <td>   863.1</td> \n",
       "</tr>\n",
       "<tr>\n",
       "  <th>Date:</th>             <td>Wed, 24 Aug 2016</td> <th>  Prob (F-statistic):</th> <td>2.87e-166</td>\n",
       "</tr>\n",
       "<tr>\n",
       "  <th>Time:</th>                 <td>12:11:58</td>     <th>  Log-Likelihood:    </th> <td> -3453.8</td> \n",
       "</tr>\n",
       "<tr>\n",
       "  <th>No. Observations:</th>      <td>  2897</td>      <th>  AIC:               </th> <td>   6912.</td> \n",
       "</tr>\n",
       "<tr>\n",
       "  <th>Df Residuals:</th>          <td>  2895</td>      <th>  BIC:               </th> <td>   6923.</td> \n",
       "</tr>\n",
       "<tr>\n",
       "  <th>Df Model:</th>              <td>     1</td>      <th>                     </th>     <td> </td>    \n",
       "</tr>\n",
       "<tr>\n",
       "  <th>Covariance Type:</th>      <td>nonrobust</td>    <th>                     </th>     <td> </td>    \n",
       "</tr>\n",
       "</table>\n",
       "<table class=\"simpletable\">\n",
       "<tr>\n",
       "         <td></td>            <th>coef</th>     <th>std err</th>      <th>t</th>      <th>P>|t|</th> <th>[95.0% Conf. Int.]</th> \n",
       "</tr>\n",
       "<tr>\n",
       "  <th>Intercept</th>       <td>    1.5599</td> <td>    0.060</td> <td>   26.215</td> <td> 0.000</td> <td>    1.443     1.677</td>\n",
       "</tr>\n",
       "<tr>\n",
       "  <th>score1_category</th> <td>    0.5001</td> <td>    0.017</td> <td>   29.379</td> <td> 0.000</td> <td>    0.467     0.533</td>\n",
       "</tr>\n",
       "</table>\n",
       "<table class=\"simpletable\">\n",
       "<tr>\n",
       "  <th>Omnibus:</th>       <td>201.619</td> <th>  Durbin-Watson:     </th> <td>   2.001</td>\n",
       "</tr>\n",
       "<tr>\n",
       "  <th>Prob(Omnibus):</th> <td> 0.000</td>  <th>  Jarque-Bera (JB):  </th> <td> 245.099</td>\n",
       "</tr>\n",
       "<tr>\n",
       "  <th>Skew:</th>          <td>-0.712</td>  <th>  Prob(JB):          </th> <td>5.99e-54</td>\n",
       "</tr>\n",
       "<tr>\n",
       "  <th>Kurtosis:</th>      <td> 3.073</td>  <th>  Cond. No.          </th> <td>    15.1</td>\n",
       "</tr>\n",
       "</table>"
      ],
      "text/plain": [
       "<class 'statsmodels.iolib.summary.Summary'>\n",
       "\"\"\"\n",
       "                            OLS Regression Results                            \n",
       "==============================================================================\n",
       "Dep. Variable:        score2_category   R-squared:                       0.230\n",
       "Model:                            OLS   Adj. R-squared:                  0.229\n",
       "Method:                 Least Squares   F-statistic:                     863.1\n",
       "Date:                Wed, 24 Aug 2016   Prob (F-statistic):          2.87e-166\n",
       "Time:                        12:11:58   Log-Likelihood:                -3453.8\n",
       "No. Observations:                2897   AIC:                             6912.\n",
       "Df Residuals:                    2895   BIC:                             6923.\n",
       "Df Model:                           1                                         \n",
       "Covariance Type:            nonrobust                                         \n",
       "===================================================================================\n",
       "                      coef    std err          t      P>|t|      [95.0% Conf. Int.]\n",
       "-----------------------------------------------------------------------------------\n",
       "Intercept           1.5599      0.060     26.215      0.000         1.443     1.677\n",
       "score1_category     0.5001      0.017     29.379      0.000         0.467     0.533\n",
       "==============================================================================\n",
       "Omnibus:                      201.619   Durbin-Watson:                   2.001\n",
       "Prob(Omnibus):                  0.000   Jarque-Bera (JB):              245.099\n",
       "Skew:                          -0.712   Prob(JB):                     5.99e-54\n",
       "Kurtosis:                       3.073   Cond. No.                         15.1\n",
       "==============================================================================\n",
       "\n",
       "Warnings:\n",
       "[1] Standard Errors assume that the covariance matrix of the errors is correctly specified.\n",
       "\"\"\""
      ]
     },
     "execution_count": 121,
     "metadata": {},
     "output_type": "execute_result"
    }
   ],
   "source": [
    "model = smf.ols(formula = 'score2_category ~ score1_category', data=train).fit()\n",
    "model.summary()"
   ]
  },
  {
   "cell_type": "code",
   "execution_count": 122,
   "metadata": {
    "collapsed": false
   },
   "outputs": [
    {
     "data": {
      "image/png": "[encoded data removed]",
      "text/plain": [
       "<matplotlib.figure.Figure at 0x1dbb3710>"
      ]
     },
     "metadata": {},
     "output_type": "display_data"
    }
   ],
   "source": [
    "risk_predict_plot = sns.pairplot(data=train, x_vars = ['risk_low1','risk_mod1','risk_high1'], \n",
    "             y_vars = ['norm_score2'], kind = 'reg')"
   ]
  },
  {
   "cell_type": "code",
   "execution_count": 123,
   "metadata": {
    "collapsed": false
   },
   "outputs": [
    {
     "data": {
      "text/html": [
       "<table class=\"simpletable\">\n",
       "<caption>OLS Regression Results</caption>\n",
       "<tr>\n",
       "  <th>Dep. Variable:</th>         <td>score2</td>      <th>  R-squared:         </th> <td>   0.304</td> \n",
       "</tr>\n",
       "<tr>\n",
       "  <th>Model:</th>                   <td>OLS</td>       <th>  Adj. R-squared:    </th> <td>   0.304</td> \n",
       "</tr>\n",
       "<tr>\n",
       "  <th>Method:</th>             <td>Least Squares</td>  <th>  F-statistic:       </th> <td>   422.0</td> \n",
       "</tr>\n",
       "<tr>\n",
       "  <th>Date:</th>             <td>Wed, 24 Aug 2016</td> <th>  Prob (F-statistic):</th> <td>2.14e-227</td>\n",
       "</tr>\n",
       "<tr>\n",
       "  <th>Time:</th>                 <td>12:11:59</td>     <th>  Log-Likelihood:    </th> <td> -9735.9</td> \n",
       "</tr>\n",
       "<tr>\n",
       "  <th>No. Observations:</th>      <td>  2897</td>      <th>  AIC:               </th> <td>1.948e+04</td>\n",
       "</tr>\n",
       "<tr>\n",
       "  <th>Df Residuals:</th>          <td>  2893</td>      <th>  BIC:               </th> <td>1.950e+04</td>\n",
       "</tr>\n",
       "<tr>\n",
       "  <th>Df Model:</th>              <td>     3</td>      <th>                     </th>     <td> </td>    \n",
       "</tr>\n",
       "<tr>\n",
       "  <th>Covariance Type:</th>      <td>nonrobust</td>    <th>                     </th>     <td> </td>    \n",
       "</tr>\n",
       "</table>\n",
       "<table class=\"simpletable\">\n",
       "<tr>\n",
       "       <td></td>         <th>coef</th>     <th>std err</th>      <th>t</th>      <th>P>|t|</th> <th>[95.0% Conf. Int.]</th> \n",
       "</tr>\n",
       "<tr>\n",
       "  <th>Intercept</th>  <td>   95.0708</td> <td>    0.202</td> <td>  470.719</td> <td> 0.000</td> <td>   94.675    95.467</td>\n",
       "</tr>\n",
       "<tr>\n",
       "  <th>risk_low1</th>  <td>   -1.5885</td> <td>    0.092</td> <td>  -17.319</td> <td> 0.000</td> <td>   -1.768    -1.409</td>\n",
       "</tr>\n",
       "<tr>\n",
       "  <th>risk_mod1</th>  <td>   -2.2881</td> <td>    0.134</td> <td>  -17.042</td> <td> 0.000</td> <td>   -2.551    -2.025</td>\n",
       "</tr>\n",
       "<tr>\n",
       "  <th>risk_high1</th> <td>   -2.8603</td> <td>    0.185</td> <td>  -15.425</td> <td> 0.000</td> <td>   -3.224    -2.497</td>\n",
       "</tr>\n",
       "</table>\n",
       "<table class=\"simpletable\">\n",
       "<tr>\n",
       "  <th>Omnibus:</th>       <td>445.061</td> <th>  Durbin-Watson:     </th> <td>   1.997</td> \n",
       "</tr>\n",
       "<tr>\n",
       "  <th>Prob(Omnibus):</th> <td> 0.000</td>  <th>  Jarque-Bera (JB):  </th> <td> 792.379</td> \n",
       "</tr>\n",
       "<tr>\n",
       "  <th>Skew:</th>          <td>-0.981</td>  <th>  Prob(JB):          </th> <td>8.65e-173</td>\n",
       "</tr>\n",
       "<tr>\n",
       "  <th>Kurtosis:</th>      <td> 4.647</td>  <th>  Cond. No.          </th> <td>    4.00</td> \n",
       "</tr>\n",
       "</table>"
      ],
      "text/plain": [
       "<class 'statsmodels.iolib.summary.Summary'>\n",
       "\"\"\"\n",
       "                            OLS Regression Results                            \n",
       "==============================================================================\n",
       "Dep. Variable:                 score2   R-squared:                       0.304\n",
       "Model:                            OLS   Adj. R-squared:                  0.304\n",
       "Method:                 Least Squares   F-statistic:                     422.0\n",
       "Date:                Wed, 24 Aug 2016   Prob (F-statistic):          2.14e-227\n",
       "Time:                        12:11:59   Log-Likelihood:                -9735.9\n",
       "No. Observations:                2897   AIC:                         1.948e+04\n",
       "Df Residuals:                    2893   BIC:                         1.950e+04\n",
       "Df Model:                           3                                         \n",
       "Covariance Type:            nonrobust                                         \n",
       "==============================================================================\n",
       "                 coef    std err          t      P>|t|      [95.0% Conf. Int.]\n",
       "------------------------------------------------------------------------------\n",
       "Intercept     95.0708      0.202    470.719      0.000        94.675    95.467\n",
       "risk_low1     -1.5885      0.092    -17.319      0.000        -1.768    -1.409\n",
       "risk_mod1     -2.2881      0.134    -17.042      0.000        -2.551    -2.025\n",
       "risk_high1    -2.8603      0.185    -15.425      0.000        -3.224    -2.497\n",
       "==============================================================================\n",
       "Omnibus:                      445.061   Durbin-Watson:                   1.997\n",
       "Prob(Omnibus):                  0.000   Jarque-Bera (JB):              792.379\n",
       "Skew:                          -0.981   Prob(JB):                    8.65e-173\n",
       "Kurtosis:                       4.647   Cond. No.                         4.00\n",
       "==============================================================================\n",
       "\n",
       "Warnings:\n",
       "[1] Standard Errors assume that the covariance matrix of the errors is correctly specified.\n",
       "\"\"\""
      ]
     },
     "execution_count": 123,
     "metadata": {},
     "output_type": "execute_result"
    }
   ],
   "source": [
    "model = smf.ols(formula = 'score2 ~ risk_low1 + risk_mod1 + risk_high1', data=train).fit()\n",
    "model.summary()"
   ]
  },
  {
   "cell_type": "code",
   "execution_count": 124,
   "metadata": {
    "collapsed": false,
    "scrolled": true
   },
   "outputs": [
    {
     "data": {
      "image/png": "[encoded data removed]",
      "text/plain": [
       "<matplotlib.figure.Figure at 0x1d1b5f28>"
      ]
     },
     "metadata": {},
     "output_type": "display_data"
    }
   ],
   "source": [
    "chain_plot2 = sns.lmplot(x='chain', y='score2', data=train, x_jitter=.15)"
   ]
  },
  {
   "cell_type": "code",
   "execution_count": 125,
   "metadata": {
    "collapsed": false
   },
   "outputs": [
    {
     "data": {
      "text/html": [
       "<table class=\"simpletable\">\n",
       "<caption>OLS Regression Results</caption>\n",
       "<tr>\n",
       "  <th>Dep. Variable:</th>         <td>score2</td>      <th>  R-squared:         </th> <td>   0.014</td> \n",
       "</tr>\n",
       "<tr>\n",
       "  <th>Model:</th>                   <td>OLS</td>       <th>  Adj. R-squared:    </th> <td>   0.013</td> \n",
       "</tr>\n",
       "<tr>\n",
       "  <th>Method:</th>             <td>Least Squares</td>  <th>  F-statistic:       </th> <td>   40.59</td> \n",
       "</tr>\n",
       "<tr>\n",
       "  <th>Date:</th>             <td>Wed, 24 Aug 2016</td> <th>  Prob (F-statistic):</th> <td>2.18e-10</td> \n",
       "</tr>\n",
       "<tr>\n",
       "  <th>Time:</th>                 <td>12:11:59</td>     <th>  Log-Likelihood:    </th> <td> -10242.</td> \n",
       "</tr>\n",
       "<tr>\n",
       "  <th>No. Observations:</th>      <td>  2897</td>      <th>  AIC:               </th> <td>2.049e+04</td>\n",
       "</tr>\n",
       "<tr>\n",
       "  <th>Df Residuals:</th>          <td>  2895</td>      <th>  BIC:               </th> <td>2.050e+04</td>\n",
       "</tr>\n",
       "<tr>\n",
       "  <th>Df Model:</th>              <td>     1</td>      <th>                     </th>     <td> </td>    \n",
       "</tr>\n",
       "<tr>\n",
       "  <th>Covariance Type:</th>      <td>nonrobust</td>    <th>                     </th>     <td> </td>    \n",
       "</tr>\n",
       "</table>\n",
       "<table class=\"simpletable\">\n",
       "<tr>\n",
       "      <td></td>         <th>coef</th>     <th>std err</th>      <th>t</th>      <th>P>|t|</th> <th>[95.0% Conf. Int.]</th> \n",
       "</tr>\n",
       "<tr>\n",
       "  <th>Intercept</th> <td>   89.2793</td> <td>    0.173</td> <td>  516.682</td> <td> 0.000</td> <td>   88.941    89.618</td>\n",
       "</tr>\n",
       "<tr>\n",
       "  <th>chain</th>     <td>    2.4434</td> <td>    0.384</td> <td>    6.371</td> <td> 0.000</td> <td>    1.691     3.195</td>\n",
       "</tr>\n",
       "</table>\n",
       "<table class=\"simpletable\">\n",
       "<tr>\n",
       "  <th>Omnibus:</th>       <td>384.291</td> <th>  Durbin-Watson:     </th> <td>   1.970</td> \n",
       "</tr>\n",
       "<tr>\n",
       "  <th>Prob(Omnibus):</th> <td> 0.000</td>  <th>  Jarque-Bera (JB):  </th> <td> 555.391</td> \n",
       "</tr>\n",
       "<tr>\n",
       "  <th>Skew:</th>          <td>-0.994</td>  <th>  Prob(JB):          </th> <td>2.50e-121</td>\n",
       "</tr>\n",
       "<tr>\n",
       "  <th>Kurtosis:</th>      <td> 3.807</td>  <th>  Cond. No.          </th> <td>    2.61</td> \n",
       "</tr>\n",
       "</table>"
      ],
      "text/plain": [
       "<class 'statsmodels.iolib.summary.Summary'>\n",
       "\"\"\"\n",
       "                            OLS Regression Results                            \n",
       "==============================================================================\n",
       "Dep. Variable:                 score2   R-squared:                       0.014\n",
       "Model:                            OLS   Adj. R-squared:                  0.013\n",
       "Method:                 Least Squares   F-statistic:                     40.59\n",
       "Date:                Wed, 24 Aug 2016   Prob (F-statistic):           2.18e-10\n",
       "Time:                        12:11:59   Log-Likelihood:                -10242.\n",
       "No. Observations:                2897   AIC:                         2.049e+04\n",
       "Df Residuals:                    2895   BIC:                         2.050e+04\n",
       "Df Model:                           1                                         \n",
       "Covariance Type:            nonrobust                                         \n",
       "==============================================================================\n",
       "                 coef    std err          t      P>|t|      [95.0% Conf. Int.]\n",
       "------------------------------------------------------------------------------\n",
       "Intercept     89.2793      0.173    516.682      0.000        88.941    89.618\n",
       "chain          2.4434      0.384      6.371      0.000         1.691     3.195\n",
       "==============================================================================\n",
       "Omnibus:                      384.291   Durbin-Watson:                   1.970\n",
       "Prob(Omnibus):                  0.000   Jarque-Bera (JB):              555.391\n",
       "Skew:                          -0.994   Prob(JB):                    2.50e-121\n",
       "Kurtosis:                       3.807   Cond. No.                         2.61\n",
       "==============================================================================\n",
       "\n",
       "Warnings:\n",
       "[1] Standard Errors assume that the covariance matrix of the errors is correctly specified.\n",
       "\"\"\""
      ]
     },
     "execution_count": 125,
     "metadata": {},
     "output_type": "execute_result"
    }
   ],
   "source": [
    "model = smf.ols(formula = 'score2 ~ chain', data=train).fit()\n",
    "model.summary()"
   ]
  },
  {
   "cell_type": "code",
   "execution_count": null,
   "metadata": {
    "collapsed": true
   },
   "outputs": [],
   "source": []
  }
 ],
 "metadata": {
  "kernelspec": {
   "display_name": "Python 2",
   "language": "python",
   "name": "python2"
  },
  "language_info": {
   "codemirror_mode": {
    "name": "ipython",
    "version": 2
   },
   "file_extension": ".py",
   "mimetype": "text/x-python",
   "name": "python",
   "nbconvert_exporter": "python",
   "pygments_lexer": "ipython2",
   "version": "2.7.11"
  }
 },
 "nbformat": 4,
 "nbformat_minor": 0
}
