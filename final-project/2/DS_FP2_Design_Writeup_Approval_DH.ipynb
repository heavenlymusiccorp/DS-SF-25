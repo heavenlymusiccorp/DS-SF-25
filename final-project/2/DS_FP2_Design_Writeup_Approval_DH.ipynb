{
 "cells": [
  {
   "cell_type": "markdown",
   "metadata": {},
   "source": [
    "### Project Problem and Hypothesis\n",
    "\n",
    "- What's the project about? What problem are you solving?\n",
    "- Where does this seem to reside as a machine learning problem? Are you predicting some continuous number, or predicting a binary value?\n",
    "- What kind of impact do you think it could have?\n",
    "- What do you think will have the most impact in predicting the value you are interested in solving for?"
   ]
  },
  {
   "cell_type": "markdown",
   "metadata": {},
   "source": [
    "#### Answer:\n",
    "Recent articles have pointed out that San Francisco, as well as other cities, have shortages of health (food/restaurant) inspectors. My idea is to determine if SF health department food inspection scores can be predicted based on Yelp data. This could allow better resource allocation for health inspectors.\n",
    "\n",
    "My guess is that the following factors would most impact the predicted food inspection score: \n",
    "- price range (categorical; 1-4 w/ 4 being most expensive)\n",
    "- if the location is part of a chain (binary)\n",
    "\n",
    "These may factor in to a lesser degree:\n",
    "- location (categorical; SF district)\n",
    "- main type of cuisine served (categorical)\n",
    "- Yelp rating (numeric; 0-5 stars in 0.5 increments -> 0-10 as integer)\n",
    "- Yelp # of reviews (numeric, integer)"
   ]
  },
  {
   "cell_type": "markdown",
   "metadata": {},
   "source": [
    "### Datasets\n",
    "\n",
    "- Description of data set available, at the field level.  (see table)\n",
    "- If from an API, include a sample return.  (this is usually included in API documentation!) (if doing this in markdown, use the JavaScript code tag)"
   ]
  },
  {
   "cell_type": "markdown",
   "metadata": {},
   "source": [
    "#### Answer:\n",
    "SF health inspection data is in the'LIVES' format: \n",
    "- https://www.yelp.com/healthscores#format\n",
    "- https://www.yelp.com/healthscores/samples#businesses\n",
    "\n",
    "Yelp API return:\n",
    "- https://www.yelp.com/developers/documentation/v2/business"
   ]
  },
  {
   "cell_type": "markdown",
   "metadata": {},
   "source": [
    "### Domain knowledge\n",
    "\n",
    "- What experience do you already have around this area?\n",
    "- Does it relate or help inform the project in any way?\n",
    "- What other research efforts exist?\n",
    "    - Use a quick Google search to see what approaches others have made, or talk with your colleagues if it is work related about previous attempts at similar problems.\n",
    "    - This could even just be something like \"the marketing team put together a forecast in excel that doesn't do well.\"\n",
    "    - Include a benchmark, how other models have performed, even if you are unsure what the metric means.\n"
   ]
  },
  {
   "cell_type": "markdown",
   "metadata": {},
   "source": [
    "#### Answer:\n",
    "Background: I don't have any background in this particular subject other than dining at many of these restaurants over the years and anecdotally noting features that may make some establishments appear to have lower health scores than others. This probably predisposes me to thinking certain features will be more predictive than others.\n",
    "\n",
    "Similar projects:\n",
    "This type of analysis has been examined previously using a data set assembled by Yelp along with the City of Boston. I can not find a similar analysis of San Francisco specifically.\n",
    "- https://www.drivendata.org/competitions/5/\n",
    "- http://engineeringblog.yelp.com/2015/04/data-science-contest-keeping-it-fresh-predict-restaurant-health-scores.html"
   ]
  },
  {
   "cell_type": "markdown",
   "metadata": {},
   "source": [
    "### Project Concerns\n",
    "\n",
    "- What questions do you have about your project?  What are you not sure you quite yet understand?  (The more honest you are about this, the easier your instructors can help)\n",
    "- What are the assumptions and caveats to the problem?\n",
    "    - What data do you not have access to but wish you had?\n",
    "    - What is already implied about the observations in your data set?  For example, if your primary data set is twitter data, it may not be representative of the whole sample.  (say, predicting who would win an election)\n",
    "- What are the risks to the project?\n",
    "    - What's the cost of your model being wrong?  (What's the benefit of your model being right?)\n",
    "    - Is any of the data incorrect? Could it be incorrect?"
   ]
  },
  {
   "cell_type": "code",
   "execution_count": null,
   "metadata": {
    "collapsed": true
   },
   "outputs": [],
   "source": []
  },
  {
   "cell_type": "markdown",
   "metadata": {},
   "source": [
    "### Outcomes\n",
    "\n",
    "- What do you expect the output to look like?\n",
    "- What does your target audience expect the output to look like?\n",
    "- What gain do you expect from your most important feature on its own?\n",
    "- How complicated does your model have to be?\n",
    "- How successful does your project have to be in order to be considered a \"success\"?\n",
    "- What will you do if the project is a bust (this happens! but it shouldn't here)?"
   ]
  },
  {
   "cell_type": "code",
   "execution_count": null,
   "metadata": {
    "collapsed": true
   },
   "outputs": [],
   "source": []
  }
 ],
 "metadata": {
  "kernelspec": {
   "display_name": "Python 2",
   "language": "python",
   "name": "python2"
  },
  "language_info": {
   "codemirror_mode": {
    "name": "ipython",
    "version": 2
   },
   "file_extension": ".py",
   "mimetype": "text/x-python",
   "name": "python",
   "nbconvert_exporter": "python",
   "pygments_lexer": "ipython2",
   "version": "2.7.11"
  }
 },
 "nbformat": 4,
 "nbformat_minor": 0
}
