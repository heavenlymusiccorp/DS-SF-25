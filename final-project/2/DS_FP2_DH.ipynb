{
 "cells": [
  {
   "cell_type": "markdown",
   "metadata": {},
   "source": [
    "### Project Problem and Hypothesis\n",
    "\n",
    "- What's the project about? What problem are you solving?\n",
    "- Where does this seem to reside as a machine learning problem? Are you predicting some continuous number, or predicting a binary value?\n",
    "- What kind of impact do you think it could have?\n",
    "- What do you think will have the most impact in predicting the value you are interested in solving for?"
   ]
  },
  {
   "cell_type": "markdown",
   "metadata": {},
   "source": [
    "#### Answer:\n",
    "Recent articles have pointed out that San Francisco, as well as other cities, have shortages of health (food/restaurant) inspectors. My idea is to determine if SF health department food inspection scores can be predicted based on Yelp data (excluding user reviews which would entail natural language processing which is beyond the scope of this project/course). This could allow better resource allocation for health inspectors.\n",
    "\n",
    "My guess is that the following factors would most impact the predicted food inspection score: \n",
    "- price range (categorical; 1-4 w/ 4 being most expensive)\n",
    "- if the location is part of a chain (binary)\n",
    "- main type of cuisine served (categorical)\n",
    "\n",
    "These may factor in to a lesser degree:\n",
    "- location (categorical; SF district)\n",
    "- Yelp rating (numeric; 0-5 stars in 0.5 increments -> 0-10 as integer)\n",
    "- Yelp # of reviews (numeric, integer)"
   ]
  },
  {
   "cell_type": "markdown",
   "metadata": {},
   "source": [
    "### Datasets\n",
    "\n",
    "- Description of data set available, at the field level.  (see table)\n",
    "- If from an API, include a sample return.  (this is usually included in API documentation!) (if doing this in markdown, use the JavaScript code tag)"
   ]
  },
  {
   "cell_type": "markdown",
   "metadata": {},
   "source": [
    "#### Answer:\n",
    "SF health inspection data is in the'LIVES' format: \n",
    "- https://www.yelp.com/healthscores#format\n",
    "- https://www.yelp.com/healthscores/samples#businesses\n",
    "\n",
    "Yelp API return:\n",
    "- https://www.yelp.com/developers/documentation/v2/business"
   ]
  },
  {
   "cell_type": "markdown",
   "metadata": {},
   "source": [
    "### Domain knowledge\n",
    "\n",
    "- What experience do you already have around this area?\n",
    "- Does it relate or help inform the project in any way?\n",
    "- What other research efforts exist?\n",
    "    - Use a quick Google search to see what approaches others have made, or talk with your colleagues if it is work related about previous attempts at similar problems.\n",
    "    - This could even just be something like \"the marketing team put together a forecast in excel that doesn't do well.\"\n",
    "    - Include a benchmark, how other models have performed, even if you are unsure what the metric means.\n"
   ]
  },
  {
   "cell_type": "markdown",
   "metadata": {},
   "source": [
    "#### Answer:\n",
    "Background: I don't have any background in this particular subject other than dining at many of these restaurants over the years and anecdotally noting features that may make some establishments appear to have lower health scores than others. This probably predisposes me to thinking certain features will be more predictive than others.\n",
    "\n",
    "Similar projects:\n",
    "This type of analysis has been examined previously using a data set assembled by Yelp along with the City of Boston. I can not find a similar analysis of San Francisco specifically.\n",
    "- https://www.drivendata.org/competitions/5/\n",
    "- http://engineeringblog.yelp.com/2015/04/data-science-contest-keeping-it-fresh-predict-restaurant-health-scores.html"
   ]
  },
  {
   "cell_type": "markdown",
   "metadata": {},
   "source": [
    "### Project Concerns\n",
    "\n",
    "- What questions do you have about your project?  What are you not sure you quite yet understand?  (The more honest you are about this, the easier your instructors can help)\n",
    "- What are the assumptions and caveats to the problem?\n",
    "    - What data do you not have access to but wish you had?\n",
    "    - What is already implied about the observations in your data set?  For example, if your primary data set is twitter data, it may not be representative of the whole sample.  (say, predicting who would win an election)\n",
    "- What are the risks to the project?\n",
    "    - What's the cost of your model being wrong?  (What's the benefit of your model being right?)\n",
    "    - Is any of the data incorrect? Could it be incorrect?"
   ]
  },
  {
   "cell_type": "markdown",
   "metadata": {
    "collapsed": true
   },
   "source": [
    "#### Answer:\n",
    "I will have questions about scraping data from Yelp. The API they provide doesn't return all the value I'm interested in. I plan to first use their API to get the bulk of the data and then scrape to get additional info like price range if possible.\n",
    "\n",
    "In order to use the use the Yelp API (or scrape Yelp), you need a way to look up the specific establishment using one of several different methods. The easiest appears to be using the telephone number but it is not provided for all establishments. I'll likely have to run additional API calls using alternate methods to get the rest.\n",
    "\n",
    "There are some discrepencies between the Yelp and Health Inspection data. Health inspection scores are collected only at certain times, like when a new restaurant opens, which means they aren't collected at random intervals which would be less biased. You could imagine a new restaurant would be cleaner and/or in a newly renovated building more up to code than a much older establishment. Therefore some thinking will have to go into how to handle the inspection scores. In contrast, Yelp data is collected continually over time and presented according to their internal guidelines which are not transparent."
   ]
  },
  {
   "cell_type": "markdown",
   "metadata": {},
   "source": [
    "### Outcomes\n",
    "\n",
    "- What do you expect the output to look like?\n",
    "- What does your target audience expect the output to look like?\n",
    "- What gain do you expect from your most important feature on its own?\n",
    "- How complicated does your model have to be?\n",
    "- How successful does your project have to be in order to be considered a \"success\"?\n",
    "- What will you do if the project is a bust (this happens! but it shouldn't here)?"
   ]
  },
  {
   "cell_type": "markdown",
   "metadata": {
    "collapsed": true
   },
   "source": [
    "#### Answer:\n",
    "I would expect the output to be the predicted classification of an establishment's health inspection score vs. the actual score. Since the goal is to better allocate or prioritize health inspection resources, the model would just need to be correct more often than it's wrong in order to be useful. The inspections still need to be carried out regardless - eventually. But finding the lower performing establishments is the goal, not simply confirming the higher performers. It would be considered a waste of resources to inspect 'good' (>90) establishments. Additionally, if the model was 100% accurate, there would be no need for health inspections which is of course not realistic given the random nature of the violations that are cited (e.g. holes forming in walls that could allow vermin entrance). If the project doesn't pan out as planned, I would look into possible explanatory factors based upon the results."
   ]
  },
  {
   "cell_type": "code",
   "execution_count": null,
   "metadata": {
    "collapsed": true
   },
   "outputs": [],
   "source": []
  }
 ],
 "metadata": {
  "kernelspec": {
   "display_name": "Python 2",
   "language": "python",
   "name": "python2"
  },
  "language_info": {
   "codemirror_mode": {
    "name": "ipython",
    "version": 2
   },
   "file_extension": ".py",
   "mimetype": "text/x-python",
   "name": "python",
   "nbconvert_exporter": "python",
   "pygments_lexer": "ipython2",
   "version": "2.7.11"
  }
 },
 "nbformat": 4,
 "nbformat_minor": 0
}
